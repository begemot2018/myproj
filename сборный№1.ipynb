{
 "cells": [
  {
   "cell_type": "markdown",
   "metadata": {},
   "source": [
    "<font color='blue'>Снова привет! Итак, первый модуль почти завершен, проделана огромная работа, приобретено множество новых знаний, проведено не одно интересное исслелование, так держать! Это снова я, Алексей. Я проверю твой сборный проект и напишу свои комментарии. Они, в зависимости от результата проверки, будут в </font><font color='green'>зеленом (когда все отлично),</font> <font color='brown'>коричневом (когда можно лучше)</font><font color='blue'> или</font> <font color='red'>красном (когда нужно переделать, чтобы я принял работу).</font><font color='blue'> Ну и в синем будут просто советы и нейтральные комментарии. Постарайся учесть все это в дальнейших проектах.  \n",
    "    Наличие критичного или трех и более некритичных замечаний является поводом для отправки проекта на доработку.\n",
    "\n",
    "---\n",
    "Апдейт после проверки: как и в прошлый раз, хорошая работа, осталось довести до идеала.  \n",
    "Более подробно см. блок в конце.\n",
    "</font>"
   ]
  },
  {
   "cell_type": "markdown",
   "metadata": {},
   "source": [
    "<font color='teal'> \n",
    "    Произведенные изменения:\n",
    "    \n",
    "    Раздел 2\n",
    "- добавлена замена пропусков в столбце рейтинг (подстановка значений для той же игры на других платформах)\n",
    "    \n",
    "    Раздел 3\n",
    "- добавлен линейный график зависимости продаж для актуального периода без последнего неполного года\n",
    "- добавлен график \"ящик с усами\" для определения средних продаж всех игр для топ5 игровых платформ\n",
    " - произведен расчет коэффициентов корреляции между продажами и отзывами критиков и пользователей для топ5 платформ и добавлен промежуточный вывод. Скорректирован общий вывод для раздела\n",
    " \n",
    "    Раздел 4\n",
    "- добавлены столбчатые диаграммы\n",
    "\n",
    "    Раздел 5\n",
    "- Скорректирован вывод, как для печати, так и ко всему разделу\n",
    " \n",
    "Скорректирован общий вывод\n",
    "    \n",
    "    \n",
    "    \n",
    "    \n",
    "    \n",
    "    \n",
    "    \n",
    " </font>   "
   ]
  },
  {
   "cell_type": "markdown",
   "metadata": {},
   "source": [
    "<b>UPD: <font color='blue'>Благодарю, очень удобное резюме. Мои апдейты будут в жирном шрифте."
   ]
  },
  {
   "cell_type": "markdown",
   "metadata": {},
   "source": [
    "## Постановка задачи:\n",
    "Вы работаете в интернет-магазине «Стримчик», который продаёт по всему миру компьютерные игры. Из открытых источников доступны исторические данные о продажах игр, оценки пользователей и экспертов, жанры и платформы (например, Xbox или PlayStation). Вам нужно выявить определяющие успешность игры закономерности. Это позволит сделать ставку на потенциально популярный продукт и спланировать рекламные кампании."
   ]
  },
  {
   "cell_type": "markdown",
   "metadata": {},
   "source": [
    "## Описание данных:\n",
    "* \t\tName — название игры\n",
    "* \t\tPlatform — платформа\n",
    "* \t\tYear_of_Release — год выпуска\n",
    "* \t\tGenre — жанр игры\n",
    "* \t\tNA_sales — продажи в Северной Америке (миллионы долларов)\n",
    "* \t\tEU_sales — продажи в Европе (миллионы долларов)\n",
    "* \t\tJP_sales — продажи в Японии (миллионы долларов)\n",
    "* \t\tOther_sales — продажи в других странах (миллионы долларов)\n",
    "* \t\tCritic_Score — оценка критиков (максимум 100)\n",
    "* \t\tUser_Score — оценка пользователей (максимум 10)\n",
    "* \t\tRating — рейтинг от организации ESRB (англ. Entertainment Software Rating Board). Эта ассоциация определяет рейтинг компьютерных игр и присваивает им подходящую возрастную категорию.\n",
    "Данные за 2016 год могут быть неполными.\n"
   ]
  },
  {
   "cell_type": "markdown",
   "metadata": {},
   "source": [
    "## План работ:\n",
    "- загрузка и знакомство с данными, изучение общей информации, составление плана предобработки\n",
    "- подготовка данных для анализа(приведение данных к нужному типу, работа с пропусками, обоснование своих действий)\n",
    "- анализ данных \n",
    "- построение портрета типичного пользователя каждого региона\n",
    "- проверка гипотез \n",
    "- подведение итогов\n"
   ]
  },
  {
   "cell_type": "markdown",
   "metadata": {},
   "source": [
    "## 1. Знакомство с данными"
   ]
  },
  {
   "cell_type": "markdown",
   "metadata": {},
   "source": [
    "загрузка необходимых библиотек"
   ]
  },
  {
   "cell_type": "code",
   "execution_count": 3,
   "metadata": {},
   "outputs": [],
   "source": [
    "import pandas as pd\n",
    "import numpy as np\n",
    "from scipy import stats as st\n",
    "import matplotlib.pyplot as plt\n",
    "import warnings\n",
    "warnings.filterwarnings('ignore')\n",
    "%matplotlib inline"
   ]
  },
  {
   "cell_type": "markdown",
   "metadata": {},
   "source": [
    "загрузим данные"
   ]
  },
  {
   "cell_type": "code",
   "execution_count": 4,
   "metadata": {},
   "outputs": [],
   "source": [
    "games = pd.read_csv('/datasets/games.csv')"
   ]
  },
  {
   "cell_type": "markdown",
   "metadata": {},
   "source": [
    "и изучим информацию о датафрейме:"
   ]
  },
  {
   "cell_type": "code",
   "execution_count": 5,
   "metadata": {},
   "outputs": [
    {
     "name": "stdout",
     "output_type": "stream",
     "text": [
      "<class 'pandas.core.frame.DataFrame'>\n",
      "RangeIndex: 16715 entries, 0 to 16714\n",
      "Data columns (total 11 columns):\n",
      "Name               16713 non-null object\n",
      "Platform           16715 non-null object\n",
      "Year_of_Release    16446 non-null float64\n",
      "Genre              16713 non-null object\n",
      "NA_sales           16715 non-null float64\n",
      "EU_sales           16715 non-null float64\n",
      "JP_sales           16715 non-null float64\n",
      "Other_sales        16715 non-null float64\n",
      "Critic_Score       8137 non-null float64\n",
      "User_Score         10014 non-null object\n",
      "Rating             9949 non-null object\n",
      "dtypes: float64(6), object(5)\n",
      "memory usage: 1.4+ MB\n"
     ]
    }
   ],
   "source": [
    "games.info()"
   ]
  },
  {
   "cell_type": "markdown",
   "metadata": {},
   "source": [
    "имена колонок заданы с прописной буквы, у некоторых колонок неверно задан тип данных"
   ]
  },
  {
   "cell_type": "code",
   "execution_count": 6,
   "metadata": {},
   "outputs": [
    {
     "data": {
      "text/html": [
       "<div>\n",
       "<style scoped>\n",
       "    .dataframe tbody tr th:only-of-type {\n",
       "        vertical-align: middle;\n",
       "    }\n",
       "\n",
       "    .dataframe tbody tr th {\n",
       "        vertical-align: top;\n",
       "    }\n",
       "\n",
       "    .dataframe thead th {\n",
       "        text-align: right;\n",
       "    }\n",
       "</style>\n",
       "<table border=\"1\" class=\"dataframe\">\n",
       "  <thead>\n",
       "    <tr style=\"text-align: right;\">\n",
       "      <th></th>\n",
       "      <th>Name</th>\n",
       "      <th>Platform</th>\n",
       "      <th>Year_of_Release</th>\n",
       "      <th>Genre</th>\n",
       "      <th>NA_sales</th>\n",
       "      <th>EU_sales</th>\n",
       "      <th>JP_sales</th>\n",
       "      <th>Other_sales</th>\n",
       "      <th>Critic_Score</th>\n",
       "      <th>User_Score</th>\n",
       "      <th>Rating</th>\n",
       "    </tr>\n",
       "  </thead>\n",
       "  <tbody>\n",
       "    <tr>\n",
       "      <td>13194</td>\n",
       "      <td>Guild 01</td>\n",
       "      <td>3DS</td>\n",
       "      <td>2012.0</td>\n",
       "      <td>Action</td>\n",
       "      <td>0.00</td>\n",
       "      <td>0.00</td>\n",
       "      <td>0.05</td>\n",
       "      <td>0.00</td>\n",
       "      <td>NaN</td>\n",
       "      <td>NaN</td>\n",
       "      <td>NaN</td>\n",
       "    </tr>\n",
       "    <tr>\n",
       "      <td>10865</td>\n",
       "      <td>Ouchi Mainichi Tamagotchi</td>\n",
       "      <td>3DS</td>\n",
       "      <td>2012.0</td>\n",
       "      <td>Action</td>\n",
       "      <td>0.00</td>\n",
       "      <td>0.00</td>\n",
       "      <td>0.09</td>\n",
       "      <td>0.00</td>\n",
       "      <td>NaN</td>\n",
       "      <td>NaN</td>\n",
       "      <td>NaN</td>\n",
       "    </tr>\n",
       "    <tr>\n",
       "      <td>16559</td>\n",
       "      <td>Katekyoo Hitman Reborn! Kindan no Yami no Delta</td>\n",
       "      <td>Wii</td>\n",
       "      <td>2008.0</td>\n",
       "      <td>Action</td>\n",
       "      <td>0.00</td>\n",
       "      <td>0.00</td>\n",
       "      <td>0.01</td>\n",
       "      <td>0.00</td>\n",
       "      <td>NaN</td>\n",
       "      <td>NaN</td>\n",
       "      <td>NaN</td>\n",
       "    </tr>\n",
       "    <tr>\n",
       "      <td>8301</td>\n",
       "      <td>Macross Ultimate Frontier</td>\n",
       "      <td>PSP</td>\n",
       "      <td>2009.0</td>\n",
       "      <td>Action</td>\n",
       "      <td>0.00</td>\n",
       "      <td>0.00</td>\n",
       "      <td>0.17</td>\n",
       "      <td>0.00</td>\n",
       "      <td>NaN</td>\n",
       "      <td>NaN</td>\n",
       "      <td>NaN</td>\n",
       "    </tr>\n",
       "    <tr>\n",
       "      <td>952</td>\n",
       "      <td>Kirby: Triple Deluxe</td>\n",
       "      <td>3DS</td>\n",
       "      <td>2014.0</td>\n",
       "      <td>Platform</td>\n",
       "      <td>0.61</td>\n",
       "      <td>0.34</td>\n",
       "      <td>0.79</td>\n",
       "      <td>0.09</td>\n",
       "      <td>80.0</td>\n",
       "      <td>8.8</td>\n",
       "      <td>E</td>\n",
       "    </tr>\n",
       "  </tbody>\n",
       "</table>\n",
       "</div>"
      ],
      "text/plain": [
       "                                                  Name Platform  \\\n",
       "13194                                         Guild 01      3DS   \n",
       "10865                        Ouchi Mainichi Tamagotchi      3DS   \n",
       "16559  Katekyoo Hitman Reborn! Kindan no Yami no Delta      Wii   \n",
       "8301                         Macross Ultimate Frontier      PSP   \n",
       "952                               Kirby: Triple Deluxe      3DS   \n",
       "\n",
       "       Year_of_Release     Genre  NA_sales  EU_sales  JP_sales  Other_sales  \\\n",
       "13194           2012.0    Action      0.00      0.00      0.05         0.00   \n",
       "10865           2012.0    Action      0.00      0.00      0.09         0.00   \n",
       "16559           2008.0    Action      0.00      0.00      0.01         0.00   \n",
       "8301            2009.0    Action      0.00      0.00      0.17         0.00   \n",
       "952             2014.0  Platform      0.61      0.34      0.79         0.09   \n",
       "\n",
       "       Critic_Score User_Score Rating  \n",
       "13194           NaN        NaN    NaN  \n",
       "10865           NaN        NaN    NaN  \n",
       "16559           NaN        NaN    NaN  \n",
       "8301            NaN        NaN    NaN  \n",
       "952            80.0        8.8      E  "
      ]
     },
     "execution_count": 6,
     "metadata": {},
     "output_type": "execute_result"
    }
   ],
   "source": [
    "games.sample(5)"
   ]
  },
  {
   "cell_type": "markdown",
   "metadata": {},
   "source": [
    "даже по пяти случайныv записям видно, что данные содержат пропуски, так же присутствует аббревиатура 'tbd' в колонке 'User_Score', что объясняет присвоенный ей тип 'object'\n",
    "\n",
    "Проверим на наличие дубликатов:"
   ]
  },
  {
   "cell_type": "code",
   "execution_count": 7,
   "metadata": {},
   "outputs": [
    {
     "data": {
      "text/plain": [
       "0"
      ]
     },
     "execution_count": 7,
     "metadata": {},
     "output_type": "execute_result"
    }
   ],
   "source": [
    "games.duplicated().sum()"
   ]
  },
  {
   "cell_type": "markdown",
   "metadata": {},
   "source": [
    "выясним в каком временном промежутоке находятся наши данные:"
   ]
  },
  {
   "cell_type": "code",
   "execution_count": 8,
   "metadata": {},
   "outputs": [
    {
     "data": {
      "text/plain": [
       "262    1980.0\n",
       "Name: Year_of_Release, dtype: float64"
      ]
     },
     "execution_count": 8,
     "metadata": {},
     "output_type": "execute_result"
    }
   ],
   "source": [
    "games['Year_of_Release'].nsmallest(1)"
   ]
  },
  {
   "cell_type": "code",
   "execution_count": 9,
   "metadata": {},
   "outputs": [
    {
     "data": {
      "text/plain": [
       "94    2016.0\n",
       "Name: Year_of_Release, dtype: float64"
      ]
     },
     "execution_count": 9,
     "metadata": {},
     "output_type": "execute_result"
    }
   ],
   "source": [
    "games['Year_of_Release'].nlargest(1)"
   ]
  },
  {
   "cell_type": "markdown",
   "metadata": {},
   "source": [
    "Оценим число и % пропусков в каждой колонке:"
   ]
  },
  {
   "cell_type": "code",
   "execution_count": 10,
   "metadata": {},
   "outputs": [
    {
     "data": {
      "text/html": [
       "<div>\n",
       "<style scoped>\n",
       "    .dataframe tbody tr th:only-of-type {\n",
       "        vertical-align: middle;\n",
       "    }\n",
       "\n",
       "    .dataframe tbody tr th {\n",
       "        vertical-align: top;\n",
       "    }\n",
       "\n",
       "    .dataframe thead th {\n",
       "        text-align: right;\n",
       "    }\n",
       "</style>\n",
       "<table border=\"1\" class=\"dataframe\">\n",
       "  <thead>\n",
       "    <tr style=\"text-align: right;\">\n",
       "      <th></th>\n",
       "      <th>Missed</th>\n",
       "      <th>% missed</th>\n",
       "    </tr>\n",
       "  </thead>\n",
       "  <tbody>\n",
       "    <tr>\n",
       "      <td>Critic_Score</td>\n",
       "      <td>8578</td>\n",
       "      <td>51.32</td>\n",
       "    </tr>\n",
       "    <tr>\n",
       "      <td>Rating</td>\n",
       "      <td>6766</td>\n",
       "      <td>40.48</td>\n",
       "    </tr>\n",
       "    <tr>\n",
       "      <td>User_Score</td>\n",
       "      <td>6701</td>\n",
       "      <td>40.09</td>\n",
       "    </tr>\n",
       "    <tr>\n",
       "      <td>Year_of_Release</td>\n",
       "      <td>269</td>\n",
       "      <td>1.61</td>\n",
       "    </tr>\n",
       "    <tr>\n",
       "      <td>Name</td>\n",
       "      <td>2</td>\n",
       "      <td>0.01</td>\n",
       "    </tr>\n",
       "    <tr>\n",
       "      <td>Genre</td>\n",
       "      <td>2</td>\n",
       "      <td>0.01</td>\n",
       "    </tr>\n",
       "    <tr>\n",
       "      <td>Platform</td>\n",
       "      <td>0</td>\n",
       "      <td>0.00</td>\n",
       "    </tr>\n",
       "    <tr>\n",
       "      <td>NA_sales</td>\n",
       "      <td>0</td>\n",
       "      <td>0.00</td>\n",
       "    </tr>\n",
       "    <tr>\n",
       "      <td>EU_sales</td>\n",
       "      <td>0</td>\n",
       "      <td>0.00</td>\n",
       "    </tr>\n",
       "    <tr>\n",
       "      <td>JP_sales</td>\n",
       "      <td>0</td>\n",
       "      <td>0.00</td>\n",
       "    </tr>\n",
       "    <tr>\n",
       "      <td>Other_sales</td>\n",
       "      <td>0</td>\n",
       "      <td>0.00</td>\n",
       "    </tr>\n",
       "  </tbody>\n",
       "</table>\n",
       "</div>"
      ],
      "text/plain": [
       "                 Missed  % missed\n",
       "Critic_Score       8578     51.32\n",
       "Rating             6766     40.48\n",
       "User_Score         6701     40.09\n",
       "Year_of_Release     269      1.61\n",
       "Name                  2      0.01\n",
       "Genre                 2      0.01\n",
       "Platform              0      0.00\n",
       "NA_sales              0      0.00\n",
       "EU_sales              0      0.00\n",
       "JP_sales              0      0.00\n",
       "Other_sales           0      0.00"
      ]
     },
     "execution_count": 10,
     "metadata": {},
     "output_type": "execute_result"
    }
   ],
   "source": [
    "missed=games.isnull().sum()\n",
    "percent=(games.isnull().sum()/games.isnull().count())*100\n",
    "missing_data=pd.concat([missed,percent],axis=1, keys=['Missed','% missed']).sort_values(by='Missed',ascending=False)\n",
    "missing_data.round(2)"
   ]
  },
  {
   "cell_type": "markdown",
   "metadata": {},
   "source": [
    "Посмотрим на данные в столбцах с наибольшим количеством пропусков:"
   ]
  },
  {
   "cell_type": "code",
   "execution_count": 11,
   "metadata": {
    "scrolled": true
   },
   "outputs": [
    {
     "data": {
      "text/plain": [
       "array(['8', nan, '8.3', '8.5', '6.6', '8.4', '8.6', '7.7', '6.3', '7.4',\n",
       "       '8.2', '9', '7.9', '8.1', '8.7', '7.1', '3.4', '5.3', '4.8', '3.2',\n",
       "       '8.9', '6.4', '7.8', '7.5', '2.6', '7.2', '9.2', '7', '7.3', '4.3',\n",
       "       '7.6', '5.7', '5', '9.1', '6.5', 'tbd', '8.8', '6.9', '9.4', '6.8',\n",
       "       '6.1', '6.7', '5.4', '4', '4.9', '4.5', '9.3', '6.2', '4.2', '6',\n",
       "       '3.7', '4.1', '5.8', '5.6', '5.5', '4.4', '4.6', '5.9', '3.9',\n",
       "       '3.1', '2.9', '5.2', '3.3', '4.7', '5.1', '3.5', '2.5', '1.9', '3',\n",
       "       '2.7', '2.2', '2', '9.5', '2.1', '3.6', '2.8', '1.8', '3.8', '0',\n",
       "       '1.6', '9.6', '2.4', '1.7', '1.1', '0.3', '1.5', '0.7', '1.2',\n",
       "       '2.3', '0.5', '1.3', '0.2', '0.6', '1.4', '0.9', '1', '9.7'],\n",
       "      dtype=object)"
      ]
     },
     "execution_count": 11,
     "metadata": {},
     "output_type": "execute_result"
    }
   ],
   "source": [
    "games['User_Score'].unique()"
   ]
  },
  {
   "cell_type": "markdown",
   "metadata": {},
   "source": [
    "Присутствует значение '0' так что придется для замены Nan использовать другое значение"
   ]
  },
  {
   "cell_type": "markdown",
   "metadata": {},
   "source": [
    "<font color='blue'>Но можно и просто оставить пропуски, как есть."
   ]
  },
  {
   "cell_type": "code",
   "execution_count": 12,
   "metadata": {},
   "outputs": [
    {
     "data": {
      "text/plain": [
       "array([76., nan, 82., 80., 89., 58., 87., 91., 61., 97., 95., 77., 88.,\n",
       "       83., 94., 93., 85., 86., 98., 96., 90., 84., 73., 74., 78., 92.,\n",
       "       71., 72., 68., 62., 49., 67., 81., 66., 56., 79., 70., 59., 64.,\n",
       "       75., 60., 63., 69., 50., 25., 42., 44., 55., 48., 57., 29., 47.,\n",
       "       65., 54., 20., 53., 37., 38., 33., 52., 30., 32., 43., 45., 51.,\n",
       "       40., 46., 39., 34., 35., 41., 36., 28., 31., 27., 26., 19., 23.,\n",
       "       24., 21., 17., 22., 13.])"
      ]
     },
     "execution_count": 12,
     "metadata": {},
     "output_type": "execute_result"
    }
   ],
   "source": [
    "games['Critic_Score'].unique()"
   ]
  },
  {
   "cell_type": "code",
   "execution_count": 13,
   "metadata": {},
   "outputs": [
    {
     "data": {
      "text/plain": [
       "array(['E', nan, 'M', 'T', 'E10+', 'K-A', 'AO', 'EC', 'RP'], dtype=object)"
      ]
     },
     "execution_count": 13,
     "metadata": {},
     "output_type": "execute_result"
    }
   ],
   "source": [
    "games['Rating'].unique()"
   ]
  },
  {
   "cell_type": "markdown",
   "metadata": {},
   "source": [
    "согласно:https://ru.wikipedia.org/wiki/Entertainment_Software_Rating_Board  ESRB основана в 1994 году. Так как данные у нас с 1980 года, то этим отчасти можно объяснить отсутствие рейтингов для значительного количества записей таблицы. Из этой же статьи узнаем, что первоначально введенный рейтинг 'K-A'(kids to adults) устарел и вместо него применяется 'E'(everyone), что дает нам повод произвести соответствующую замену, так же нужно заменить значения \"RP\" («Rating Pending») — «Рейтинг ожидается» на NaN, с последующей обработкой. \"ожидается\" равносильно отсутствию рейтинга."
   ]
  },
  {
   "cell_type": "markdown",
   "metadata": {},
   "source": [
    "### Выводы\n",
    "Датасет содержит 16715 записей и 11 колонок,полные дубликаты отсутствуют. Все данные находятся в промежутке между  1980 и 2016 годами. Данные по продажам полные.\n",
    "\n",
    "Для остальных данных может быть предложен следующий план предобработки:\n",
    "\n",
    "-  названия колонок нуждаются в приведении к нижнему регистру\n",
    "- необходима смена типов данных для колонок 'Year_of_Release' на 'int' и 'User_Score' на 'float'\n",
    "- параметр 'tbd'(to be deteremined- будет определено) в столбце 'User_Score' можно заменить на NaN, полагая что игра не набрала достаточно отзывов для вычисления рейтинга считаем, что его нет.\n",
    "- Пропуски в колонках рейтингов игр Critic_Score и User_Score, где отсутствует рактически половина данных, целесообразно заполнить индикаторным значением '-9999'. (Значение '-9999' выбрано по аналогии с тем, как заполняются пропущенные значения в метеоданных)\n",
    "- Пропуски в столбцах Rating, Name, Genre заменить на  информация недоступна - 'not_aval' .\n",
    "- Строки в таблице с отсутствующим годом выпуска удалим, так практически весь последующий анализ будет проводиться в разрезе года выпуска игры."
   ]
  },
  {
   "cell_type": "markdown",
   "metadata": {},
   "source": [
    "<font color='green'>Открыли и подробно изучили данные, нашли основные проблемы, использовали методы первичного изучения, хорошо."
   ]
  },
  {
   "cell_type": "markdown",
   "metadata": {},
   "source": [
    "## 2. Подготовка данных"
   ]
  },
  {
   "cell_type": "markdown",
   "metadata": {},
   "source": [
    "Заменим прописные буквы на строчные в названиях столбцов:"
   ]
  },
  {
   "cell_type": "code",
   "execution_count": 14,
   "metadata": {},
   "outputs": [],
   "source": [
    "games.columns = games.columns.str.lower()"
   ]
  },
  {
   "cell_type": "markdown",
   "metadata": {},
   "source": [
    "Произведем преобразования колонки user_score:"
   ]
  },
  {
   "cell_type": "code",
   "execution_count": 15,
   "metadata": {},
   "outputs": [],
   "source": [
    "games['user_score'] = games['user_score'].replace('tbd', np.NaN)\n",
    "games['user_score'] = games['user_score'].astype('float')\n",
    "games['user_score'] = games['user_score'].fillna(-9999)"
   ]
  },
  {
   "cell_type": "markdown",
   "metadata": {},
   "source": [
    "<font color=green>Верно, tbd в данном случае равнозначны пропускам."
   ]
  },
  {
   "cell_type": "markdown",
   "metadata": {},
   "source": [
    "Произведем преобразования колонки critic_score:"
   ]
  },
  {
   "cell_type": "code",
   "execution_count": 16,
   "metadata": {},
   "outputs": [],
   "source": [
    "games['critic_score'] = games['critic_score'].fillna(-9999)"
   ]
  },
  {
   "cell_type": "markdown",
   "metadata": {},
   "source": [
    "Обработка столбца с годами выпуска и удаление пропущенных значений:"
   ]
  },
  {
   "cell_type": "code",
   "execution_count": 17,
   "metadata": {},
   "outputs": [],
   "source": [
    "games.dropna(subset=['year_of_release'], inplace = True)\n",
    "games['year_of_release'] = games['year_of_release'].astype('int')"
   ]
  },
  {
   "cell_type": "markdown",
   "metadata": {},
   "source": [
    "Попробуем частично заполнить ячейки с отсутствующим рейтингом для конкретной платформы если для той же игры на  других платформах значение имеется.\n",
    "\n",
    "создадим словарь:"
   ]
  },
  {
   "cell_type": "code",
   "execution_count": 18,
   "metadata": {},
   "outputs": [],
   "source": [
    "games_rating=games.set_index('name')['rating'].to_dict()"
   ]
  },
  {
   "cell_type": "markdown",
   "metadata": {},
   "source": [
    "произведем замену и оценим результат:"
   ]
  },
  {
   "cell_type": "code",
   "execution_count": 19,
   "metadata": {},
   "outputs": [
    {
     "name": "stdout",
     "output_type": "stream",
     "text": [
      "число пропусков до подстановки 6678\n",
      "число пропусков после подстановки 6485\n"
     ]
    }
   ],
   "source": [
    "print('число пропусков до подстановки',games['rating'].isna().sum())\n",
    "games['rating']=games['rating'].fillna(games['name'].map(games_rating))\n",
    "print('число пропусков после подстановки',games['rating'].isna().sum())"
   ]
  },
  {
   "cell_type": "markdown",
   "metadata": {},
   "source": [
    "<b>UPD: <font color='green'>Немного, зато достоверно."
   ]
  },
  {
   "cell_type": "markdown",
   "metadata": {},
   "source": [
    "Актуализируем значения рейтинга ESRB (замена устаревшего маркера 'K-A' на 'E') и помечаем отсутствующие данные:"
   ]
  },
  {
   "cell_type": "code",
   "execution_count": 20,
   "metadata": {},
   "outputs": [],
   "source": [
    "games.loc[games['rating'] == 'K-A', 'rating'] = 'E'\n",
    "games.loc[games['rating'] == 'RT', 'rating'] = np.nan\n",
    "games['rating'] = games['rating'].fillna('not_aval')"
   ]
  },
  {
   "cell_type": "markdown",
   "metadata": {},
   "source": [
    "<s><font color='brown'>Здесь можно попробовать частично заполнить пропуски, взяв рейтинг это же игры из \"соседней\" платформы. Они, в отличие от оценок, должны свпадать."
   ]
  },
  {
   "cell_type": "markdown",
   "metadata": {},
   "source": [
    "Заполним пропуски в колонках 'genre' и 'name':"
   ]
  },
  {
   "cell_type": "code",
   "execution_count": 21,
   "metadata": {},
   "outputs": [],
   "source": [
    "games['genre'] = games['genre'].fillna('not_aval')\n",
    "games['name'] = games['name'].fillna('no_aval')"
   ]
  },
  {
   "cell_type": "markdown",
   "metadata": {},
   "source": [
    "Вычислим суммарные продажи по всем регионам и добавим соответствующую колонку к нашему датафрейму:"
   ]
  },
  {
   "cell_type": "markdown",
   "metadata": {},
   "source": [
    "<font color=green>Очистили данные ➡ посчитали новые параметры. Это очень правильный порядок."
   ]
  },
  {
   "cell_type": "code",
   "execution_count": 22,
   "metadata": {},
   "outputs": [],
   "source": [
    "games['total_sales'] = games['na_sales'] + games['eu_sales'] + games['jp_sales'] + games['other_sales']"
   ]
  },
  {
   "cell_type": "markdown",
   "metadata": {},
   "source": [
    "посмотрим на результат:"
   ]
  },
  {
   "cell_type": "code",
   "execution_count": 23,
   "metadata": {},
   "outputs": [
    {
     "name": "stdout",
     "output_type": "stream",
     "text": [
      "<class 'pandas.core.frame.DataFrame'>\n",
      "Int64Index: 16446 entries, 0 to 16714\n",
      "Data columns (total 12 columns):\n",
      "name               16446 non-null object\n",
      "platform           16446 non-null object\n",
      "year_of_release    16446 non-null int64\n",
      "genre              16446 non-null object\n",
      "na_sales           16446 non-null float64\n",
      "eu_sales           16446 non-null float64\n",
      "jp_sales           16446 non-null float64\n",
      "other_sales        16446 non-null float64\n",
      "critic_score       16446 non-null float64\n",
      "user_score         16446 non-null float64\n",
      "rating             16446 non-null object\n",
      "total_sales        16446 non-null float64\n",
      "dtypes: float64(7), int64(1), object(4)\n",
      "memory usage: 1.6+ MB\n"
     ]
    }
   ],
   "source": [
    "games.info()"
   ]
  },
  {
   "cell_type": "markdown",
   "metadata": {},
   "source": [
    "### Выводы\n",
    "Проведена подготовка данных для дальнейшего исследовательского анализа.\n",
    "- стандартизованы имена столбцов\n",
    "- изменены типы данных, там где это необходимо\n",
    "- заполнены пропуски \n",
    "- удалены строки с отсутствующей информацией о годе выпуска \n",
    "- добавлена колонка с данными по суммарным продажам"
   ]
  },
  {
   "cell_type": "markdown",
   "metadata": {},
   "source": [
    "<font color='green'>Итак, с пропусками разобрались, привели данные к нужному формату, общие продажи посчитали, отлично."
   ]
  },
  {
   "cell_type": "markdown",
   "metadata": {},
   "source": [
    "## 3. Исследовательский анализ данных\n",
    "* \t\tПосмотрите, сколько игр выпускалось в разные годы. Важны ли данные за все периоды?\n",
    "* \t\tПосмотрите, как менялись продажи по платформам. Выберите платформы с наибольшими суммарными продажами и постройте распределение по годам. За какой характерный срок появляются новые и исчезают старые платформы?\n",
    "* \t\tВозьмите данные за соответствующий актуальный период. Актуальный период определите самостоятельно в результате исследования предыдущих вопросов. Основной фактор — эти данные помогут построить прогноз на 2017 год.\n",
    "* \t\tНе учитывайте в работе данные за предыдущие годы.\n",
    "* \t\tКакие платформы лидируют по продажам, растут или падают? Выберите несколько потенциально прибыльных платформ.\n",
    "* \t\tПостройте график «ящик с усами» по глобальным продажам каждой игры и разбивкой по платформам. Велика ли разница в продажах? А в средних продажах на разных платформах? Опишите результат.\n",
    "* \t\tПосмотрите, как влияют на продажи внутри одной популярной платформы отзывы пользователей и критиков. Постройте диаграмму рассеяния и посчитайте корреляцию между отзывами и продажами. Сформулируйте выводы.\n",
    "* \t\tСоотнесите выводы с продажами игр на других платформах.\n",
    "* \t\tПосмотрите на общее распределение игр по жанрам. Что можно сказать о самых прибыльных жанрах? Выделяются ли жанры с высокими и низкими продажами?\n"
   ]
  },
  {
   "cell_type": "markdown",
   "metadata": {},
   "source": [
    "Представим количество игр выпущенных в разные годы на графике:"
   ]
  },
  {
   "cell_type": "code",
   "execution_count": 24,
   "metadata": {},
   "outputs": [
    {
     "data": {
      "image/png": "[encoded data removed]",
      "text/plain": [
       "<Figure size 1440x360 with 1 Axes>"
      ]
     },
     "metadata": {
      "needs_background": "light"
     },
     "output_type": "display_data"
    }
   ],
   "source": [
    "games.groupby('year_of_release')['year_of_release'].count().plot(kind='bar', figsize=(20,5));\n",
    "plt.xlabel('год')\n",
    "plt.ylabel('число выпущенных игр')\n",
    "plt.show()"
   ]
  },
  {
   "cell_type": "markdown",
   "metadata": {},
   "source": [
    "Из представленных на графике данных очевидно, что  развитие игровой  индустрии шло синхронно развитию компьютерных технологий(процессоры, видеокарты, объемы носителей информации, ПО итд) Очевиден \"ровный\" период с 80 по 92 год, подъем с 1993 по 2008( c момента появления процессоров семейства \"Pentium\", развитие GUI итд.) С 2009 по 2013 очевидный спад( появление смартфонов и доступный интернет с онлайн играми). Период относительной стабилизации 2012-2016 при этом объем продаж уменьшается почти вдвое по сравнению с пиковыми показателями 2008, 2009гг.\n",
    "\n",
    "Для прогноза на 2017 год нужно в качестве актуального периода выбрать интервал 2012-2016"
   ]
  },
  {
   "cell_type": "markdown",
   "metadata": {},
   "source": [
    "<font color='green'>Очень наглядный график. Хотя пока не вполне понятно обоснование выбора периода."
   ]
  },
  {
   "cell_type": "markdown",
   "metadata": {},
   "source": [
    "Построим график продаж игр по различным платформам:"
   ]
  },
  {
   "cell_type": "code",
   "execution_count": 25,
   "metadata": {},
   "outputs": [
    {
     "data": {
      "image/png": "[encoded data removed]",
      "text/plain": [
       "<Figure size 1440x360 with 1 Axes>"
      ]
     },
     "metadata": {
      "needs_background": "light"
     },
     "output_type": "display_data"
    }
   ],
   "source": [
    "platform_sales = (games\n",
    "    .pivot_table(index='platform', values='total_sales', aggfunc='sum')\n",
    "    .sort_values(by='total_sales')\n",
    "    )\n",
    "platform_sales.plot(kind='bar', figsize=(20,5))\n",
    "plt.show()"
   ]
  },
  {
   "cell_type": "markdown",
   "metadata": {},
   "source": [
    "Видно, что  в безусловных лидерах продаж находются игры для платформы PS2. Замыкает группу лидеров продажи для игровой платформы PS, опережающих платформу PS4 , более чем в 2 раза.\n",
    "\n",
    "Для большей наглядности представим данные по продажам для первых десяти платформ в виде таблицы:"
   ]
  },
  {
   "cell_type": "code",
   "execution_count": 26,
   "metadata": {},
   "outputs": [
    {
     "data": {
      "text/html": [
       "<div>\n",
       "<style scoped>\n",
       "    .dataframe tbody tr th:only-of-type {\n",
       "        vertical-align: middle;\n",
       "    }\n",
       "\n",
       "    .dataframe tbody tr th {\n",
       "        vertical-align: top;\n",
       "    }\n",
       "\n",
       "    .dataframe thead th {\n",
       "        text-align: right;\n",
       "    }\n",
       "</style>\n",
       "<table border=\"1\" class=\"dataframe\">\n",
       "  <thead>\n",
       "    <tr style=\"text-align: right;\">\n",
       "      <th></th>\n",
       "      <th>total_sales</th>\n",
       "    </tr>\n",
       "    <tr>\n",
       "      <th>platform</th>\n",
       "      <th></th>\n",
       "    </tr>\n",
       "  </thead>\n",
       "  <tbody>\n",
       "    <tr>\n",
       "      <td>PS2</td>\n",
       "      <td>1234.0</td>\n",
       "    </tr>\n",
       "    <tr>\n",
       "      <td>X360</td>\n",
       "      <td>961.0</td>\n",
       "    </tr>\n",
       "    <tr>\n",
       "      <td>PS3</td>\n",
       "      <td>931.0</td>\n",
       "    </tr>\n",
       "    <tr>\n",
       "      <td>Wii</td>\n",
       "      <td>891.0</td>\n",
       "    </tr>\n",
       "    <tr>\n",
       "      <td>DS</td>\n",
       "      <td>803.0</td>\n",
       "    </tr>\n",
       "    <tr>\n",
       "      <td>PS</td>\n",
       "      <td>728.0</td>\n",
       "    </tr>\n",
       "    <tr>\n",
       "      <td>PS4</td>\n",
       "      <td>314.0</td>\n",
       "    </tr>\n",
       "    <tr>\n",
       "      <td>GBA</td>\n",
       "      <td>313.0</td>\n",
       "    </tr>\n",
       "    <tr>\n",
       "      <td>PSP</td>\n",
       "      <td>290.0</td>\n",
       "    </tr>\n",
       "    <tr>\n",
       "      <td>3DS</td>\n",
       "      <td>258.0</td>\n",
       "    </tr>\n",
       "  </tbody>\n",
       "</table>\n",
       "</div>"
      ],
      "text/plain": [
       "          total_sales\n",
       "platform             \n",
       "PS2            1234.0\n",
       "X360            961.0\n",
       "PS3             931.0\n",
       "Wii             891.0\n",
       "DS              803.0\n",
       "PS              728.0\n",
       "PS4             314.0\n",
       "GBA             313.0\n",
       "PSP             290.0\n",
       "3DS             258.0"
      ]
     },
     "execution_count": 26,
     "metadata": {},
     "output_type": "execute_result"
    }
   ],
   "source": [
    "top10=games.pivot_table(index='platform', values ='total_sales', aggfunc=['sum'])\n",
    "top10.columns=['total_sales']\n",
    "top10 = top10.sort_values(by='total_sales',ascending=False).round().head(10)\n",
    "top10"
   ]
  },
  {
   "cell_type": "markdown",
   "metadata": {},
   "source": [
    "Для анализа продаж по годам возьмем первые шесть платформ.\n",
    "\n",
    "Для них объем продаж более чем вдвое отличается от остальных:"
   ]
  },
  {
   "cell_type": "code",
   "execution_count": 27,
   "metadata": {},
   "outputs": [],
   "source": [
    "top6=top10.sort_values(by='total_sales',ascending=False).head(6)"
   ]
  },
  {
   "cell_type": "code",
   "execution_count": 28,
   "metadata": {},
   "outputs": [
    {
     "data": {
      "text/plain": [
       "Index(['PS2', 'X360', 'PS3', 'Wii', 'DS', 'PS'], dtype='object', name='platform')"
      ]
     },
     "execution_count": 28,
     "metadata": {},
     "output_type": "execute_result"
    }
   ],
   "source": [
    "top6.index"
   ]
  },
  {
   "cell_type": "markdown",
   "metadata": {},
   "source": [
    "получим названия топ6 платформ:"
   ]
  },
  {
   "cell_type": "code",
   "execution_count": 29,
   "metadata": {},
   "outputs": [],
   "source": [
    "top6_names=top6.index"
   ]
  },
  {
   "cell_type": "markdown",
   "metadata": {},
   "source": [
    "Определим функцию для расчета продаж по годам:"
   ]
  },
  {
   "cell_type": "code",
   "execution_count": 30,
   "metadata": {},
   "outputs": [],
   "source": [
    "def platform_sales_by_year(name, df):\n",
    "    return (\n",
    "        df  .query(\"platform == @name\") \n",
    "            .pivot_table(index='year_of_release', values='total_sales', aggfunc='sum')\n",
    "            .sort_values('year_of_release', ascending=False)\n",
    "    )"
   ]
  },
  {
   "cell_type": "markdown",
   "metadata": {},
   "source": [
    "И построим линейные графики зависимости продаж от года для выбранных нами платформ:"
   ]
  },
  {
   "cell_type": "code",
   "execution_count": 31,
   "metadata": {},
   "outputs": [
    {
     "data": {
      "image/png": "[encoded data removed]",
      "text/plain": [
       "<Figure size 720x720 with 1 Axes>"
      ]
     },
     "metadata": {
      "needs_background": "light"
     },
     "output_type": "display_data"
    }
   ],
   "source": [
    "for platform_name in list(top6_names):\n",
    "    platform_sales_by_year(platform_name, games)['total_sales'].plot(figsize=(10, 10), label=platform_name)\n",
    "    plt.xlabel(\"year of release\")\n",
    "    plt.ylabel(\"total sales\")\n",
    "    plt.legend()"
   ]
  },
  {
   "cell_type": "markdown",
   "metadata": {},
   "source": [
    "Зависимость объема продаж от годам всех шести платформ достаточно схожи - от роста  продаж с нуля  до полного падения  проходит приблизительно 10 лет. Причем пик продаж приходится на первые пять, шесть лет.  Отметим отличие для продаж игр на платформе Wii. Для этой платформы мы видим большое количество продаж уже в первый год выпуска (хорошая рекламная компания предшествовала выпуску?)\n",
    "\n",
    "Данные за актуальный период  (2012-2016) выделим эти строки в отдельный датафрейм:"
   ]
  },
  {
   "cell_type": "code",
   "execution_count": 32,
   "metadata": {},
   "outputs": [],
   "source": [
    "actual = games.query('2012 <= year_of_release <= 2016')"
   ]
  },
  {
   "cell_type": "markdown",
   "metadata": {},
   "source": [
    "<font color='green'>С выбором периода согласен. Все устаревшие платформы уже утратили позиции, а новые на подходе."
   ]
  },
  {
   "cell_type": "markdown",
   "metadata": {},
   "source": [
    "Посмотрим сколько платформ попали в актуальный период для прогноза:"
   ]
  },
  {
   "cell_type": "code",
   "execution_count": 33,
   "metadata": {},
   "outputs": [
    {
     "name": "stdout",
     "output_type": "stream",
     "text": [
      "Всего игровых платформ - 31\n",
      "актуальных игровых платформ - 11\n"
     ]
    }
   ],
   "source": [
    "print('Всего игровых платформ -', games['platform'].unique().shape[0])\n",
    "print('актуальных игровых платформ -', actual['platform'].unique().shape[0])"
   ]
  },
  {
   "cell_type": "markdown",
   "metadata": {},
   "source": [
    "Определим лидеров по продажам в период с 2012 по 2016:"
   ]
  },
  {
   "cell_type": "code",
   "execution_count": 34,
   "metadata": {},
   "outputs": [
    {
     "data": {
      "text/plain": [
       "platform\n",
       "PS4     314.14\n",
       "PS3     288.79\n",
       "X360    236.54\n",
       "3DS     194.61\n",
       "XOne    159.32\n",
       "WiiU     82.19\n",
       "PC       62.65\n",
       "PSV      49.18\n",
       "Wii      35.37\n",
       "DS       12.55\n",
       "PSP      11.19\n",
       "Name: total_sales, dtype: float64"
      ]
     },
     "execution_count": 34,
     "metadata": {},
     "output_type": "execute_result"
    }
   ],
   "source": [
    "actual.groupby('platform')['total_sales'].sum().sort_values(ascending=False)"
   ]
  },
  {
   "cell_type": "markdown",
   "metadata": {},
   "source": [
    "Можно выделить первые пять платформ, как наиболее перспективные и прибыльные"
   ]
  },
  {
   "cell_type": "markdown",
   "metadata": {},
   "source": [
    "Оценим динамику продаж наиболее перспективных платформ (первые 5 с продажами более 150 млн.), для чего построим линейный график.\n",
    "\n"
   ]
  },
  {
   "cell_type": "code",
   "execution_count": 35,
   "metadata": {},
   "outputs": [],
   "source": [
    "actual_top=actual.groupby('platform')['total_sales'].sum().sort_values(ascending=False).head(5)"
   ]
  },
  {
   "cell_type": "code",
   "execution_count": 36,
   "metadata": {},
   "outputs": [
    {
     "data": {
      "image/png": "[encoded data removed]",
      "text/plain": [
       "<Figure size 1080x720 with 1 Axes>"
      ]
     },
     "metadata": {
      "needs_background": "light"
     },
     "output_type": "display_data"
    }
   ],
   "source": [
    "for platform_name in list(actual_top.index):\n",
    "    platform_sales_by_year(platform_name, actual)['total_sales'].plot(figsize=(15, 10), label=platform_name)\n",
    "    plt.xlabel(\"year of release\")\n",
    "    plt.ylabel(\"total sales\")\n",
    "    plt.legend()"
   ]
  },
  {
   "cell_type": "markdown",
   "metadata": {},
   "source": [
    "Даже у самых прибыльных платформ наблюдается отрицательный рост продаж. Причем, если для платформ PS3 и X360 продажи к 2016 снизились практически до нуля, то в PS4 еще есть возможность заработать на спаде продаж.\n",
    "\n",
    "Теперь оценим продажу игр для различных платформ за актуальный период и определим десятку лидеров:\n"
   ]
  },
  {
   "cell_type": "markdown",
   "metadata": {},
   "source": [
    "<s><font color='brown'>Данные за 2016-й год неполные, соответственно, тенденции стоит смотреть с 12-го по 15-й.  \n",
    "PS3 и X360 уже попросту отжили свое и уступают место приемницам."
   ]
  },
  {
   "cell_type": "markdown",
   "metadata": {},
   "source": [
    "Посмотрим есть ли разница если анализировать данные только за полные годы( без 2016):"
   ]
  },
  {
   "cell_type": "code",
   "execution_count": 37,
   "metadata": {},
   "outputs": [],
   "source": [
    "actual_1215=actual.query('2012 <= year_of_release <= 2015')"
   ]
  },
  {
   "cell_type": "code",
   "execution_count": 38,
   "metadata": {},
   "outputs": [
    {
     "data": {
      "text/plain": [
       "platform\n",
       "PS3     285.19\n",
       "PS4     244.89\n",
       "X360    235.02\n",
       "3DS     179.47\n",
       "XOne    133.17\n",
       "WiiU     77.59\n",
       "PC       57.40\n",
       "PSV      44.93\n",
       "Wii      35.19\n",
       "DS       12.55\n",
       "PSP      11.19\n",
       "Name: total_sales, dtype: float64"
      ]
     },
     "execution_count": 38,
     "metadata": {},
     "output_type": "execute_result"
    }
   ],
   "source": [
    "actual_1215.groupby('platform')['total_sales'].sum().sort_values(ascending=False)"
   ]
  },
  {
   "cell_type": "code",
   "execution_count": 39,
   "metadata": {},
   "outputs": [],
   "source": [
    "actual_1215_top=actual_1215.groupby('platform')['total_sales'].sum().sort_values(ascending=False).head(5)"
   ]
  },
  {
   "cell_type": "code",
   "execution_count": 40,
   "metadata": {},
   "outputs": [
    {
     "data": {
      "image/png": "[encoded data removed]",
      "text/plain": [
       "<Figure size 1080x720 with 1 Axes>"
      ]
     },
     "metadata": {
      "needs_background": "light"
     },
     "output_type": "display_data"
    }
   ],
   "source": [
    "for platform_name in list(actual_top.index):\n",
    "    platform_sales_by_year(platform_name, actual_1215)['total_sales'].plot(figsize=(15, 10), label=platform_name)\n",
    "    plt.xlabel(\"year of release\")\n",
    "    plt.ylabel(\"total sales\")\n",
    "    plt.legend()"
   ]
  },
  {
   "cell_type": "markdown",
   "metadata": {},
   "source": [
    "Без учета данных за 2016 год(неполных) видна тенденция к росту продаж на платформах PS4 и XOne. Остальные платформы  демонстрируют падение продаж. Список топ игровых платформ отстался практически без изменений"
   ]
  },
  {
   "cell_type": "code",
   "execution_count": 41,
   "metadata": {},
   "outputs": [
    {
     "data": {
      "text/plain": [
       "name\n",
       "Grand Theft Auto V                56.58\n",
       "Call of Duty: Black Ops II        29.40\n",
       "Call of Duty: Ghosts              27.39\n",
       "Call of Duty: Black Ops 3         25.67\n",
       "Minecraft                         24.16\n",
       "Call of Duty: Advanced Warfare    21.97\n",
       "FIFA 15                           17.37\n",
       "FIFA 14                           16.46\n",
       "FIFA 16                           16.30\n",
       "FIFA Soccer 13                    15.97\n",
       "Name: total_sales, dtype: float64"
      ]
     },
     "execution_count": 41,
     "metadata": {},
     "output_type": "execute_result"
    }
   ],
   "source": [
    "top_games = actual.groupby('name')['total_sales'].sum().sort_values(ascending=False).head(10)\n",
    "top_games"
   ]
  },
  {
   "cell_type": "markdown",
   "metadata": {},
   "source": [
    "и построим график: "
   ]
  },
  {
   "cell_type": "code",
   "execution_count": 42,
   "metadata": {},
   "outputs": [
    {
     "data": {
      "image/png": "[encoded data removed]",
      "text/plain": [
       "<Figure size 1440x720 with 1 Axes>"
      ]
     },
     "metadata": {
      "needs_background": "light"
     },
     "output_type": "display_data"
    }
   ],
   "source": [
    "actual.query('name in @top_games.index').boxplot( by='name', column='total_sales',figsize=(20,10))\n",
    "plt.show()"
   ]
  },
  {
   "cell_type": "markdown",
   "metadata": {},
   "source": []
  },
  {
   "cell_type": "markdown",
   "metadata": {},
   "source": [
    "Распределение продаж для 10 самых продающихся игр по платформам:"
   ]
  },
  {
   "cell_type": "code",
   "execution_count": 43,
   "metadata": {},
   "outputs": [
    {
     "data": {
      "image/png": "[encoded data removed]",
      "text/plain": [
       "<Figure size 1080x576 with 10 Axes>"
      ]
     },
     "metadata": {
      "needs_background": "light"
     },
     "output_type": "display_data"
    }
   ],
   "source": [
    "plt.subplots(2,5,figsize=(15,8))\n",
    "i = 1\n",
    "for game in top_games.index:\n",
    "    ax=plt.subplot(2,5,i)\n",
    "    actual.query('name==@game').plot(kind='bar', x='platform', y='total_sales', ax=ax)\n",
    "    ax.set_xlabel(game)\n",
    "    i += 1\n",
    "plt.tight_layout()"
   ]
  },
  {
   "cell_type": "markdown",
   "metadata": {},
   "source": [
    "Популярные игры, как правило, лучше всего продаются для платформ- X360,PS3. Продажи для платформ РС и Wii значительно меньше."
   ]
  },
  {
   "cell_type": "markdown",
   "metadata": {},
   "source": [
    "<font color='blue'>Здесь стоит учесть, что, вероятно, X360 и PS3 имели больше времени для продажи этих игр, ввиду своего возраста."
   ]
  },
  {
   "cell_type": "markdown",
   "metadata": {},
   "source": [
    "<font color='red'>Хорошее исследование, но в задании нас просят сделать несколько другое. Давай посмотрим на продажи всех игр с разбивкой по платформам: есть ли разница в среднем чеке между XOne и PS4? (`.boxplot(by='name', ...)`)"
   ]
  },
  {
   "cell_type": "markdown",
   "metadata": {},
   "source": [
    "Отличие в средних продажах для разных платформ за актуальный период:"
   ]
  },
  {
   "cell_type": "code",
   "execution_count": 44,
   "metadata": {},
   "outputs": [
    {
     "data": {
      "image/png": "[encoded data removed]",
      "text/plain": [
       "<Figure size 1440x720 with 1 Axes>"
      ]
     },
     "metadata": {
      "needs_background": "light"
     },
     "output_type": "display_data"
    }
   ],
   "source": [
    "actual_1215.query('platform in @actual_top.index').boxplot( by='platform', column='total_sales',figsize=(20,10),)\n",
    "plt.ylim(0,3)\n",
    "plt.tight_layout()\n",
    "plt.show()"
   ]
  },
  {
   "cell_type": "markdown",
   "metadata": {},
   "source": [
    "<b>UPD: <font color='green'>Я опечатался, но ты понял, о чем речь :)"
   ]
  },
  {
   "cell_type": "code",
   "execution_count": 45,
   "metadata": {},
   "outputs": [
    {
     "data": {
      "text/plain": [
       "platform\n",
       "3DS     0.512771\n",
       "DS      0.404839\n",
       "PC      0.292857\n",
       "PS3     0.626791\n",
       "PS4     1.074079\n",
       "PSP     0.064682\n",
       "PSV     0.137822\n",
       "Wii     0.663962\n",
       "WiiU    0.583383\n",
       "X360    0.842366\n",
       "XOne    0.832312\n",
       "Name: total_sales, dtype: float64"
      ]
     },
     "execution_count": 45,
     "metadata": {},
     "output_type": "execute_result"
    }
   ],
   "source": [
    "actual_1215.groupby('platform')['total_sales'].mean()"
   ]
  },
  {
   "cell_type": "markdown",
   "metadata": {},
   "source": [
    "Средние продажи игр для PS4 на 20% выше чем для XOne в актуальный период."
   ]
  },
  {
   "cell_type": "markdown",
   "metadata": {},
   "source": [
    "Влияние отзывов пользователей и критиков на продажи в рамках одной популярной платформы.\n",
    "\n",
    "Выберем игровую платформу для которой в актуальный период было выпущено больше всего игр:"
   ]
  },
  {
   "cell_type": "code",
   "execution_count": 46,
   "metadata": {},
   "outputs": [
    {
     "data": {
      "text/plain": [
       "platform\n",
       "PS3    493\n",
       "Name: name, dtype: int64"
      ]
     },
     "execution_count": 46,
     "metadata": {},
     "output_type": "execute_result"
    }
   ],
   "source": [
    "actual.groupby(['platform'])['name'].count().sort_values(ascending=False).nlargest(1)"
   ]
  },
  {
   "cell_type": "markdown",
   "metadata": {},
   "source": [
    "И построим графики рассеяния(памятуя, что отсутствующие значения рейтинга мы определили, как \"-9999\"):"
   ]
  },
  {
   "cell_type": "code",
   "execution_count": 47,
   "metadata": {},
   "outputs": [
    {
     "data": {
      "image/png": "[encoded data removed]",
      "text/plain": [
       "<Figure size 432x288 with 1 Axes>"
      ]
     },
     "metadata": {
      "needs_background": "light"
     },
     "output_type": "display_data"
    }
   ],
   "source": [
    "actual.query('platform==\"PS3\"and critic_score >=0').plot(kind='scatter', x='critic_score', y='total_sales')\n",
    "plt.show()"
   ]
  },
  {
   "cell_type": "markdown",
   "metadata": {},
   "source": [
    "и вычислим коэффициент корреляции:"
   ]
  },
  {
   "cell_type": "code",
   "execution_count": 48,
   "metadata": {},
   "outputs": [
    {
     "data": {
      "text/plain": [
       "0.3314972592629587"
      ]
     },
     "execution_count": 48,
     "metadata": {},
     "output_type": "execute_result"
    }
   ],
   "source": [
    "(actual.query('platform==\"PS3\"and critic_score >=0')['critic_score'].corr(actual\n",
    "       .query('platform==\"PS3\"and critic_score >=0 ')['total_sales']))"
   ]
  },
  {
   "cell_type": "markdown",
   "metadata": {},
   "source": [
    "для пользовательского рейтинга:"
   ]
  },
  {
   "cell_type": "code",
   "execution_count": 49,
   "metadata": {},
   "outputs": [
    {
     "data": {
      "image/png": "[encoded data removed]",
      "text/plain": [
       "<Figure size 432x288 with 1 Axes>"
      ]
     },
     "metadata": {
      "needs_background": "light"
     },
     "output_type": "display_data"
    }
   ],
   "source": [
    "actual.query('platform==\"PS3\"and user_score >=0').plot(kind='scatter', x='user_score', y='total_sales')\n",
    "plt.show()"
   ]
  },
  {
   "cell_type": "code",
   "execution_count": 50,
   "metadata": {},
   "outputs": [
    {
     "data": {
      "text/plain": [
       "-0.005143522887113815"
      ]
     },
     "execution_count": 50,
     "metadata": {},
     "output_type": "execute_result"
    }
   ],
   "source": [
    "(actual .query('platform==\"PS3\"and user_score >=0')['user_score']\n",
    "        .corr(actual.query('platform==\"PS3\"and user_score >=0')['total_sales']))"
   ]
  },
  {
   "cell_type": "markdown",
   "metadata": {},
   "source": [
    "Анализ данных за актуальный период для платформы PS3 показал:\n",
    "- присутствует небольшая взаимосвязь между отзывами критиков и продажами\n",
    "- Взаимосвязи между отзывами пользователей и продажами нет\n",
    "\n",
    "Тем не менее по диаграмме рассеяния видно, что чем выше оценки критиков, тем выше продажи игр и возможно покупатели к отзывам критиков все же прислушиваются."
   ]
  },
  {
   "cell_type": "markdown",
   "metadata": {},
   "source": [
    "<s><font color='brown'>Все верно, но предлагаю взять другие платформы и проверить, какова данная картина в них (можно в цикле). Возможно, мы найдем платформы, где продажи сильнее зависят от оценок?"
   ]
  },
  {
   "cell_type": "markdown",
   "metadata": {},
   "source": [
    "Проверим есть ли зависимость для остальных платформ\n",
    "\n",
    "Связь с отзывами критиков:"
   ]
  },
  {
   "cell_type": "code",
   "execution_count": 51,
   "metadata": {},
   "outputs": [
    {
     "name": "stdout",
     "output_type": "stream",
     "text": [
      "PS4 0.407\n",
      "PS3 0.331\n",
      "X360 0.361\n",
      "3DS 0.321\n",
      "XOne 0.417\n"
     ]
    }
   ],
   "source": [
    "for platform in actual_top.index:\n",
    "    df = actual.query('platform==@platform and critic_score >=0')\n",
    "    print(platform,df['critic_score'].corr(df['total_sales']).round(3))"
   ]
  },
  {
   "cell_type": "markdown",
   "metadata": {},
   "source": [
    "и пользователей"
   ]
  },
  {
   "cell_type": "code",
   "execution_count": 52,
   "metadata": {},
   "outputs": [
    {
     "name": "stdout",
     "output_type": "stream",
     "text": [
      "PS4 -0.032\n",
      "PS3 -0.005\n",
      "X360 0.006\n",
      "3DS 0.198\n",
      "XOne -0.069\n"
     ]
    }
   ],
   "source": [
    "for platform in actual_top.index:\n",
    "    df = actual.query('platform==@platform and user_score >=0')\n",
    "    print(platform,df['user_score'].corr(df['total_sales']).round(3))"
   ]
  },
  {
   "cell_type": "markdown",
   "metadata": {},
   "source": [
    "Для всех топ5 игровых платформ есть примрно одинаковая положительная зависимость между продажами и отзывами критиков. Пользовательские отзывы в небольшой степени влияют на продажи игр на платформе 3DS"
   ]
  },
  {
   "cell_type": "markdown",
   "metadata": {},
   "source": [
    "<b>UPD: <font color='green'>Отлично."
   ]
  },
  {
   "cell_type": "markdown",
   "metadata": {},
   "source": [
    "Посмотрим как распределяются продажи игр по жанрам:"
   ]
  },
  {
   "cell_type": "code",
   "execution_count": 53,
   "metadata": {},
   "outputs": [
    {
     "data": {
      "image/png": "[encoded data removed]",
      "text/plain": [
       "<Figure size 432x288 with 1 Axes>"
      ]
     },
     "metadata": {
      "needs_background": "light"
     },
     "output_type": "display_data"
    }
   ],
   "source": [
    "(actual.groupby('genre')['name'].count()\n",
    "        .sort_values(ascending=False).plot(kind='bar', label='games count', legend=True)\n",
    ")\n",
    "plt.show()"
   ]
  },
  {
   "cell_type": "markdown",
   "metadata": {},
   "source": [
    "И какие игровые жанры приносят больше прибыли:"
   ]
  },
  {
   "cell_type": "code",
   "execution_count": 54,
   "metadata": {},
   "outputs": [
    {
     "data": {
      "image/png": "[encoded data removed]",
      "text/plain": [
       "<Figure size 432x288 with 1 Axes>"
      ]
     },
     "metadata": {
      "needs_background": "light"
     },
     "output_type": "display_data"
    }
   ],
   "source": [
    "(actual.groupby('genre')['total_sales']\n",
    "       .sum().sort_values(ascending=False).plot(kind='bar', label='total sales', legend=True))\n",
    "plt.show()"
   ]
  },
  {
   "cell_type": "markdown",
   "metadata": {},
   "source": [
    "Наибольшее количество игр выпущено в жанре Action. Игры этого жанра и характеризуются наибольшим объемом продаж. В целом, наблюдается прямая зависимость между количеством игр определенного жанра и объемом продаж."
   ]
  },
  {
   "cell_type": "markdown",
   "metadata": {},
   "source": [
    "<font color='blue'>Это логично, так как сумма продаж непосредственно зависит от количества выпущенных игр.  \n",
    "    Здесь также можно взглянуть на средний чек по жанрам (функция аггрегации mean). Возможно стратегий просто мало производят, поэтому и суммарные продажи небольшие."
   ]
  },
  {
   "cell_type": "markdown",
   "metadata": {},
   "source": [
    "## Вывод.\n",
    "- определен акутальный период (2012 - 2016 гг.)\n",
    "- определена продолжительность жизни платформы (около 10 лет)\n",
    "- Для актуального периода определены топ 5 самых прибыльных платформ: PS3, X360, PS4, 3DS, XOne.\n",
    "- Для платформ 3DS,PS3, X360 наблюдаетя падение продаж  к 2016 году XOne,PS4 демонстрируют рост и могут считаться перспективными.\n",
    "- определены топ 5 самых продаваемых игр: Call of Duty: Black Ops II, Call of Duty: Ghosts, Call of Duty: Black Ops 3,Minecraft.                  \n",
    "- Для самых продающихся игр самый большой разброс продаж\n",
    "- В лидерах по продажам для популярных игр одни и те же платформы. Х360, PS3, PS4 как правило, всегда в лидерах продаж. \n",
    "- Имеется зависимость для всех платформ между оценкой критиков и продажами\n",
    "- зависимость между оценкой пользователей и продажами отмечена только для платформы 3DS\n",
    "- количество выпущенных игр определенного жанра напрямую связано с продажами"
   ]
  },
  {
   "cell_type": "markdown",
   "metadata": {},
   "source": [
    "<font color='green'>Все верно. Выводы понятны и аргументированы."
   ]
  },
  {
   "cell_type": "markdown",
   "metadata": {},
   "source": [
    "## 4. Портрет пользователя каждого региона\n",
    "Определите для пользователя каждого региона (NA, EU, JP):\n",
    "* \t\tСамые популярные платформы (топ-5). Опишите различия в долях продаж.\n",
    "* \t\tСамые популярные жанры (топ-5). Поясните разницу.\n",
    "* \t\tВлияет ли рейтинг ESRB на продажи в отдельном регионе?\n"
   ]
  },
  {
   "cell_type": "markdown",
   "metadata": {},
   "source": [
    "Для характеристик предпочтений пользователей регионов будем использовать данные по региональным продажам "
   ]
  },
  {
   "cell_type": "markdown",
   "metadata": {},
   "source": [
    "Определим самые популярные игровые платформы для регионов и долю их продаж от мировых.\n",
    "\n",
    "Для Северной Америки:"
   ]
  },
  {
   "cell_type": "code",
   "execution_count": 55,
   "metadata": {},
   "outputs": [
    {
     "data": {
      "text/html": [
       "<div>\n",
       "<style scoped>\n",
       "    .dataframe tbody tr th:only-of-type {\n",
       "        vertical-align: middle;\n",
       "    }\n",
       "\n",
       "    .dataframe tbody tr th {\n",
       "        vertical-align: top;\n",
       "    }\n",
       "\n",
       "    .dataframe thead th {\n",
       "        text-align: right;\n",
       "    }\n",
       "</style>\n",
       "<table border=\"1\" class=\"dataframe\">\n",
       "  <thead>\n",
       "    <tr style=\"text-align: right;\">\n",
       "      <th></th>\n",
       "      <th>na_sales</th>\n",
       "      <th>total_sales</th>\n",
       "      <th>%of total sales</th>\n",
       "    </tr>\n",
       "    <tr>\n",
       "      <th>platform</th>\n",
       "      <th></th>\n",
       "      <th></th>\n",
       "      <th></th>\n",
       "    </tr>\n",
       "  </thead>\n",
       "  <tbody>\n",
       "    <tr>\n",
       "      <td>X360</td>\n",
       "      <td>140.0</td>\n",
       "      <td>237.0</td>\n",
       "      <td>59.0</td>\n",
       "    </tr>\n",
       "    <tr>\n",
       "      <td>PS4</td>\n",
       "      <td>109.0</td>\n",
       "      <td>314.0</td>\n",
       "      <td>35.0</td>\n",
       "    </tr>\n",
       "    <tr>\n",
       "      <td>PS3</td>\n",
       "      <td>103.0</td>\n",
       "      <td>289.0</td>\n",
       "      <td>36.0</td>\n",
       "    </tr>\n",
       "    <tr>\n",
       "      <td>XOne</td>\n",
       "      <td>93.0</td>\n",
       "      <td>159.0</td>\n",
       "      <td>58.0</td>\n",
       "    </tr>\n",
       "    <tr>\n",
       "      <td>3DS</td>\n",
       "      <td>55.0</td>\n",
       "      <td>195.0</td>\n",
       "      <td>28.0</td>\n",
       "    </tr>\n",
       "  </tbody>\n",
       "</table>\n",
       "</div>"
      ],
      "text/plain": [
       "          na_sales  total_sales  %of total sales\n",
       "platform                                        \n",
       "X360         140.0        237.0             59.0\n",
       "PS4          109.0        314.0             35.0\n",
       "PS3          103.0        289.0             36.0\n",
       "XOne          93.0        159.0             58.0\n",
       "3DS           55.0        195.0             28.0"
      ]
     },
     "execution_count": 55,
     "metadata": {},
     "output_type": "execute_result"
    }
   ],
   "source": [
    "top_platforms=actual.pivot_table(index='platform', values=['na_sales', 'total_sales'], aggfunc='sum')\n",
    "\n",
    "top_platforms['%of total sales']=(top_platforms['na_sales']/top_platforms['total_sales'])*100\n",
    "top5=top_platforms.sort_values(by='na_sales',ascending=False).round().head(5)\n",
    "top5"
   ]
  },
  {
   "cell_type": "markdown",
   "metadata": {},
   "source": [
    "и построим график:"
   ]
  },
  {
   "cell_type": "code",
   "execution_count": 56,
   "metadata": {},
   "outputs": [
    {
     "data": {
      "text/plain": [
       "<matplotlib.axes._subplots.AxesSubplot at 0x7f7925540a50>"
      ]
     },
     "execution_count": 56,
     "metadata": {},
     "output_type": "execute_result"
    },
    {
     "data": {
      "image/png": "[encoded data removed]",
      "text/plain": [
       "<Figure size 432x288 with 1 Axes>"
      ]
     },
     "metadata": {
      "needs_background": "light"
     },
     "output_type": "display_data"
    }
   ],
   "source": [
    "top5.plot.barh( stacked = True)"
   ]
  },
  {
   "cell_type": "markdown",
   "metadata": {},
   "source": [
    "Для Европы:"
   ]
  },
  {
   "cell_type": "code",
   "execution_count": 57,
   "metadata": {},
   "outputs": [
    {
     "data": {
      "text/html": [
       "<div>\n",
       "<style scoped>\n",
       "    .dataframe tbody tr th:only-of-type {\n",
       "        vertical-align: middle;\n",
       "    }\n",
       "\n",
       "    .dataframe tbody tr th {\n",
       "        vertical-align: top;\n",
       "    }\n",
       "\n",
       "    .dataframe thead th {\n",
       "        text-align: right;\n",
       "    }\n",
       "</style>\n",
       "<table border=\"1\" class=\"dataframe\">\n",
       "  <thead>\n",
       "    <tr style=\"text-align: right;\">\n",
       "      <th></th>\n",
       "      <th>eu_sales</th>\n",
       "      <th>total_sales</th>\n",
       "      <th>%of total sales</th>\n",
       "    </tr>\n",
       "    <tr>\n",
       "      <th>platform</th>\n",
       "      <th></th>\n",
       "      <th></th>\n",
       "      <th></th>\n",
       "    </tr>\n",
       "  </thead>\n",
       "  <tbody>\n",
       "    <tr>\n",
       "      <td>PS4</td>\n",
       "      <td>141.0</td>\n",
       "      <td>314.0</td>\n",
       "      <td>45.0</td>\n",
       "    </tr>\n",
       "    <tr>\n",
       "      <td>PS3</td>\n",
       "      <td>107.0</td>\n",
       "      <td>289.0</td>\n",
       "      <td>37.0</td>\n",
       "    </tr>\n",
       "    <tr>\n",
       "      <td>X360</td>\n",
       "      <td>75.0</td>\n",
       "      <td>237.0</td>\n",
       "      <td>32.0</td>\n",
       "    </tr>\n",
       "    <tr>\n",
       "      <td>XOne</td>\n",
       "      <td>52.0</td>\n",
       "      <td>159.0</td>\n",
       "      <td>32.0</td>\n",
       "    </tr>\n",
       "    <tr>\n",
       "      <td>3DS</td>\n",
       "      <td>43.0</td>\n",
       "      <td>195.0</td>\n",
       "      <td>22.0</td>\n",
       "    </tr>\n",
       "  </tbody>\n",
       "</table>\n",
       "</div>"
      ],
      "text/plain": [
       "          eu_sales  total_sales  %of total sales\n",
       "platform                                        \n",
       "PS4          141.0        314.0             45.0\n",
       "PS3          107.0        289.0             37.0\n",
       "X360          75.0        237.0             32.0\n",
       "XOne          52.0        159.0             32.0\n",
       "3DS           43.0        195.0             22.0"
      ]
     },
     "execution_count": 57,
     "metadata": {},
     "output_type": "execute_result"
    }
   ],
   "source": [
    "top_platforms_eu=actual.pivot_table(index='platform', values=['eu_sales', 'total_sales'], aggfunc='sum')\n",
    "\n",
    "top_platforms_eu['%of total sales']=(top_platforms_eu['eu_sales']/top_platforms['total_sales'])*100\n",
    "top5_eu=top_platforms_eu.sort_values(by='eu_sales',ascending=False).round().head(5)\n",
    "top5_eu"
   ]
  },
  {
   "cell_type": "code",
   "execution_count": 58,
   "metadata": {},
   "outputs": [
    {
     "data": {
      "image/png": "[encoded data removed]",
      "text/plain": [
       "<Figure size 432x288 with 1 Axes>"
      ]
     },
     "metadata": {
      "needs_background": "light"
     },
     "output_type": "display_data"
    }
   ],
   "source": [
    "top5_eu.plot.barh( stacked = True);"
   ]
  },
  {
   "cell_type": "markdown",
   "metadata": {},
   "source": [
    "Для Японии:"
   ]
  },
  {
   "cell_type": "code",
   "execution_count": 59,
   "metadata": {},
   "outputs": [
    {
     "data": {
      "text/html": [
       "<div>\n",
       "<style scoped>\n",
       "    .dataframe tbody tr th:only-of-type {\n",
       "        vertical-align: middle;\n",
       "    }\n",
       "\n",
       "    .dataframe tbody tr th {\n",
       "        vertical-align: top;\n",
       "    }\n",
       "\n",
       "    .dataframe thead th {\n",
       "        text-align: right;\n",
       "    }\n",
       "</style>\n",
       "<table border=\"1\" class=\"dataframe\">\n",
       "  <thead>\n",
       "    <tr style=\"text-align: right;\">\n",
       "      <th></th>\n",
       "      <th>jp_sales</th>\n",
       "      <th>total_sales</th>\n",
       "      <th>%of total sales</th>\n",
       "    </tr>\n",
       "    <tr>\n",
       "      <th>platform</th>\n",
       "      <th></th>\n",
       "      <th></th>\n",
       "      <th></th>\n",
       "    </tr>\n",
       "  </thead>\n",
       "  <tbody>\n",
       "    <tr>\n",
       "      <td>3DS</td>\n",
       "      <td>88.0</td>\n",
       "      <td>195.0</td>\n",
       "      <td>45.0</td>\n",
       "    </tr>\n",
       "    <tr>\n",
       "      <td>PS3</td>\n",
       "      <td>35.0</td>\n",
       "      <td>289.0</td>\n",
       "      <td>12.0</td>\n",
       "    </tr>\n",
       "    <tr>\n",
       "      <td>PSV</td>\n",
       "      <td>21.0</td>\n",
       "      <td>49.0</td>\n",
       "      <td>43.0</td>\n",
       "    </tr>\n",
       "    <tr>\n",
       "      <td>PS4</td>\n",
       "      <td>16.0</td>\n",
       "      <td>314.0</td>\n",
       "      <td>5.0</td>\n",
       "    </tr>\n",
       "    <tr>\n",
       "      <td>WiiU</td>\n",
       "      <td>13.0</td>\n",
       "      <td>82.0</td>\n",
       "      <td>16.0</td>\n",
       "    </tr>\n",
       "  </tbody>\n",
       "</table>\n",
       "</div>"
      ],
      "text/plain": [
       "          jp_sales  total_sales  %of total sales\n",
       "platform                                        \n",
       "3DS           88.0        195.0             45.0\n",
       "PS3           35.0        289.0             12.0\n",
       "PSV           21.0         49.0             43.0\n",
       "PS4           16.0        314.0              5.0\n",
       "WiiU          13.0         82.0             16.0"
      ]
     },
     "execution_count": 59,
     "metadata": {},
     "output_type": "execute_result"
    }
   ],
   "source": [
    "top_platforms_jp=actual.pivot_table(index='platform', values=['jp_sales', 'total_sales'], aggfunc='sum')\n",
    "\n",
    "top_platforms_jp['%of total sales']=(top_platforms_jp['jp_sales']/top_platforms['total_sales'])*100\n",
    "top5_jp=top_platforms_jp.sort_values(by='jp_sales',ascending=False).round().head(5)\n",
    "top5_jp"
   ]
  },
  {
   "cell_type": "code",
   "execution_count": 60,
   "metadata": {},
   "outputs": [
    {
     "data": {
      "image/png": "[encoded data removed]",
      "text/plain": [
       "<Figure size 432x288 with 1 Axes>"
      ]
     },
     "metadata": {
      "needs_background": "light"
     },
     "output_type": "display_data"
    }
   ],
   "source": [
    "top5_jp.plot.barh( stacked = True);"
   ]
  },
  {
   "cell_type": "markdown",
   "metadata": {},
   "source": [
    "Для Европы и Северной Америки самыми популярными являются платформы PS3,PS4 и X360. В Америке X360 лидер по продажам. На японском рынке в тройке наиболее продаваемых присутсвует только PS3, а безусловным лидером рынка является 3DS. Интересно отметить, что на платформу лидера продаж в регионе, а это X360 для Америки, PS4 для Европы и 3DS для Японии, приходится практически половина мировых продаж, от 45 до 59 процентов."
   ]
  },
  {
   "cell_type": "markdown",
   "metadata": {},
   "source": [
    "Определим самые популярные жанры игр для регионов:"
   ]
  },
  {
   "cell_type": "code",
   "execution_count": 61,
   "metadata": {},
   "outputs": [],
   "source": [
    "top_genres = actual.pivot_table(index='genre', values=['na_sales', 'jp_sales', 'eu_sales'], aggfunc='sum')\n",
    "na_top = top_genres['na_sales'].nlargest(5)\n",
    "eu_top = top_genres['eu_sales'].nlargest(5)\n",
    "jp_top = top_genres['jp_sales'].nlargest(5)\n"
   ]
  },
  {
   "cell_type": "markdown",
   "metadata": {},
   "source": [
    "представим наглядно\n",
    "для Северной Америки:"
   ]
  },
  {
   "cell_type": "code",
   "execution_count": 62,
   "metadata": {},
   "outputs": [
    {
     "data": {
      "image/png": "[encoded data removed]",
      "text/plain": [
       "<Figure size 432x288 with 1 Axes>"
      ]
     },
     "metadata": {
      "needs_background": "light"
     },
     "output_type": "display_data"
    }
   ],
   "source": [
    "na_top.plot.bar();"
   ]
  },
  {
   "cell_type": "markdown",
   "metadata": {},
   "source": [
    "Европы:"
   ]
  },
  {
   "cell_type": "code",
   "execution_count": 63,
   "metadata": {},
   "outputs": [
    {
     "data": {
      "image/png": "[encoded data removed]",
      "text/plain": [
       "<Figure size 432x288 with 1 Axes>"
      ]
     },
     "metadata": {
      "needs_background": "light"
     },
     "output_type": "display_data"
    }
   ],
   "source": [
    "eu_top.plot.bar();"
   ]
  },
  {
   "cell_type": "markdown",
   "metadata": {},
   "source": [
    "И Японии:"
   ]
  },
  {
   "cell_type": "code",
   "execution_count": 64,
   "metadata": {},
   "outputs": [
    {
     "data": {
      "image/png": "[encoded data removed]",
      "text/plain": [
       "<Figure size 432x288 with 1 Axes>"
      ]
     },
     "metadata": {
      "needs_background": "light"
     },
     "output_type": "display_data"
    }
   ],
   "source": [
    "jp_top.plot.bar();"
   ]
  },
  {
   "cell_type": "markdown",
   "metadata": {},
   "source": [
    "после чего сведем результаты для наглядности в одну таблицу:"
   ]
  },
  {
   "cell_type": "code",
   "execution_count": 65,
   "metadata": {},
   "outputs": [
    {
     "data": {
      "text/html": [
       "<div>\n",
       "<style scoped>\n",
       "    .dataframe tbody tr th:only-of-type {\n",
       "        vertical-align: middle;\n",
       "    }\n",
       "\n",
       "    .dataframe tbody tr th {\n",
       "        vertical-align: top;\n",
       "    }\n",
       "\n",
       "    .dataframe thead th {\n",
       "        text-align: right;\n",
       "    }\n",
       "</style>\n",
       "<table border=\"1\" class=\"dataframe\">\n",
       "  <thead>\n",
       "    <tr style=\"text-align: right;\">\n",
       "      <th></th>\n",
       "      <th>NA</th>\n",
       "      <th>EU</th>\n",
       "      <th>JP</th>\n",
       "    </tr>\n",
       "  </thead>\n",
       "  <tbody>\n",
       "    <tr>\n",
       "      <td>1</td>\n",
       "      <td>Action</td>\n",
       "      <td>Action</td>\n",
       "      <td>Role-Playing</td>\n",
       "    </tr>\n",
       "    <tr>\n",
       "      <td>2</td>\n",
       "      <td>Shooter</td>\n",
       "      <td>Shooter</td>\n",
       "      <td>Action</td>\n",
       "    </tr>\n",
       "    <tr>\n",
       "      <td>3</td>\n",
       "      <td>Sports</td>\n",
       "      <td>Sports</td>\n",
       "      <td>Misc</td>\n",
       "    </tr>\n",
       "    <tr>\n",
       "      <td>4</td>\n",
       "      <td>Role-Playing</td>\n",
       "      <td>Role-Playing</td>\n",
       "      <td>Simulation</td>\n",
       "    </tr>\n",
       "    <tr>\n",
       "      <td>5</td>\n",
       "      <td>Misc</td>\n",
       "      <td>Racing</td>\n",
       "      <td>Fighting</td>\n",
       "    </tr>\n",
       "  </tbody>\n",
       "</table>\n",
       "</div>"
      ],
      "text/plain": [
       "             NA            EU            JP\n",
       "1        Action        Action  Role-Playing\n",
       "2       Shooter       Shooter        Action\n",
       "3        Sports        Sports          Misc\n",
       "4  Role-Playing  Role-Playing    Simulation\n",
       "5          Misc        Racing      Fighting"
      ]
     },
     "execution_count": 65,
     "metadata": {},
     "output_type": "execute_result"
    }
   ],
   "source": [
    "regional_preferences = pd.DataFrame(data={ 'NA':na_top.index,'EU':eu_top.index, 'JP':jp_top.index}, index=range(1,6))\n",
    "regional_preferences"
   ]
  },
  {
   "cell_type": "markdown",
   "metadata": {},
   "source": [
    "<font color='green'>Очень элегантно!"
   ]
  },
  {
   "cell_type": "markdown",
   "metadata": {},
   "source": [
    "У европейцев и американцев практически одинаковые предпочтения- на первом месте игры жанра Action затем Shooter и Sports. Японцы предпочитают ролевые игры, а Actin лишь на третьем месте. Разница в предпочитаемых жанрах возможно связана с особенностями японского/восточного менталитета."
   ]
  },
  {
   "cell_type": "markdown",
   "metadata": {},
   "source": [
    "Посмотрим теперь как влияет рейтинг ESRB на продажи в регионах.\n"
   ]
  },
  {
   "cell_type": "code",
   "execution_count": 66,
   "metadata": {},
   "outputs": [],
   "source": [
    "rating_sales = actual.pivot_table(index='rating', values=['na_sales', 'jp_sales', 'eu_sales'], aggfunc='sum')\n"
   ]
  },
  {
   "cell_type": "markdown",
   "metadata": {},
   "source": [
    "Для Северной Америки:"
   ]
  },
  {
   "cell_type": "code",
   "execution_count": 67,
   "metadata": {},
   "outputs": [
    {
     "data": {
      "text/plain": [
       "rating\n",
       "M           235.0\n",
       "E           115.0\n",
       "not_aval     96.0\n",
       "E10+         77.0\n",
       "T            68.0\n",
       "Name: na_sales, dtype: float64"
      ]
     },
     "execution_count": 67,
     "metadata": {},
     "output_type": "execute_result"
    }
   ],
   "source": [
    "rating_sales['na_sales'].sort_values(ascending=False).round()"
   ]
  },
  {
   "cell_type": "markdown",
   "metadata": {},
   "source": [
    "Для Европы:"
   ]
  },
  {
   "cell_type": "code",
   "execution_count": 68,
   "metadata": {},
   "outputs": [
    {
     "data": {
      "text/plain": [
       "rating\n",
       "M           198.0\n",
       "E           114.0\n",
       "not_aval     82.0\n",
       "E10+         57.0\n",
       "T            56.0\n",
       "Name: eu_sales, dtype: float64"
      ]
     },
     "execution_count": 68,
     "metadata": {},
     "output_type": "execute_result"
    }
   ],
   "source": [
    "rating_sales['eu_sales'].sort_values(ascending=False).round()"
   ]
  },
  {
   "cell_type": "markdown",
   "metadata": {},
   "source": [
    "Для Японии:"
   ]
  },
  {
   "cell_type": "code",
   "execution_count": 69,
   "metadata": {},
   "outputs": [
    {
     "data": {
      "text/plain": [
       "rating\n",
       "not_aval    108.0\n",
       "E            28.0\n",
       "T            27.0\n",
       "M            22.0\n",
       "E10+          8.0\n",
       "Name: jp_sales, dtype: float64"
      ]
     },
     "execution_count": 69,
     "metadata": {},
     "output_type": "execute_result"
    }
   ],
   "source": [
    "rating_sales['jp_sales'].sort_values(ascending=False).round()"
   ]
  },
  {
   "cell_type": "markdown",
   "metadata": {},
   "source": [
    "В Америке и Европе примерно идентичная ситуация- первое место у игр \"для взрослых\", второе у игр \"для всех\". Тем не менее игры с отсутствующим рейтингом ESRB занимают третье место по продажам, а в Японии так первое."
   ]
  },
  {
   "cell_type": "markdown",
   "metadata": {},
   "source": [
    "### Вывод\n",
    "Были определены пользовательские предпочтения(построен портрет пользователя) для регионов на основе анализа данных по продажам за актуальный период (2012-2016)\n",
    "\n",
    "Установлено:\n",
    "- игровые предпочтения жителей Америки и Европы практически совпадают.\n",
    "- пользователи Японии отличаются и выбором игровой платформы и предпочтениями в выборе жанра\n",
    "- Самая популярная платформа в регионе обеспечивает практически половину мировых продаж\n",
    "- Самыми продаваемыми в регионах являются игры с маркировкой \"для всех\"(Е), либо не имеющими рейтинга ESRB\n"
   ]
  },
  {
   "cell_type": "markdown",
   "metadata": {},
   "source": [
    "<font color='green'>В целом здесь все хорошо, портрет пользователя я увидел довольно четкий. Заказчику будет понятно, на какие платформы/жанры/рейтинги делать упор."
   ]
  },
  {
   "cell_type": "markdown",
   "metadata": {},
   "source": [
    "<s><font color='brown'>Однако в этом разделе очень бы пригодились визуализации. Все крутится вокруг долей рынка, могу предложить попробоваить круговые диаграммы, но можешь сделать что-то еще, на свой вкус.  \n",
    "    Давай покажем наглядно, как распределяются по регионам жанры/платформыи т.д."
   ]
  },
  {
   "cell_type": "markdown",
   "metadata": {},
   "source": [
    "<b>UPD: <font color='green'>Теперь более наглядно."
   ]
  },
  {
   "cell_type": "markdown",
   "metadata": {},
   "source": [
    "<b>UPD: <font color='blue'>Но обрати внимание, как просто увидеть доли рынка на чем-то вроде этого:"
   ]
  },
  {
   "cell_type": "code",
   "execution_count": 78,
   "metadata": {},
   "outputs": [
    {
     "data": {
      "text/plain": [
       "<matplotlib.axes._subplots.AxesSubplot at 0x7f7927d97f90>"
      ]
     },
     "execution_count": 78,
     "metadata": {},
     "output_type": "execute_result"
    },
    {
     "data": {
      "image/png": "[encoded data removed]",
      "text/plain": [
       "<Figure size 432x288 with 1 Axes>"
      ]
     },
     "metadata": {},
     "output_type": "display_data"
    }
   ],
   "source": [
    "# Код ревьюера \n",
    "jp_top.plot.pie()"
   ]
  },
  {
   "cell_type": "markdown",
   "metadata": {},
   "source": [
    "## 5 Проверка гипотез"
   ]
  },
  {
   "cell_type": "markdown",
   "metadata": {},
   "source": [
    "Проверяем гипотезу равенстве средних пользовательских рейтингов у платформ Xbox One и PC ;\n",
    "\n",
    "Нулевая гипотеза: средние пользовательские рейтинги платформ Xbox One и PC одинаковые\n",
    "\n",
    "Альтернативная гипотеза: средние пользовательские рейтинги платформ Xbox One и PC различные\n",
    "\n",
    "пороговое значение alpha зададим равным 0.05\n",
    "\n"
   ]
  },
  {
   "cell_type": "code",
   "execution_count": 70,
   "metadata": {},
   "outputs": [
    {
     "name": "stdout",
     "output_type": "stream",
     "text": [
      "0.5535080500643661 Принимаем нулевую гипотезу\n"
     ]
    }
   ],
   "source": [
    "xbox = actual.query('platform==\"XOne\" and user_score >=0')['user_score']\n",
    "pc = actual.query('platform==\"PC\" and user_score >=0')['user_score']\n",
    "result = st.ttest_ind(xbox, pc).pvalue\n",
    "alpha = 0.05\n",
    "if result < alpha:\n",
    "    print(result, 'Принимаем альтернативную гипотезу ')\n",
    "else:\n",
    "    print(result, 'Принимаем нулевую гипотезу')"
   ]
  },
  {
   "cell_type": "markdown",
   "metadata": {},
   "source": [
    "<s><font color='brown'>Мы все же не можем говорить, что она точно верна. У нас просто, вследствие проведенного теста, нет повода её отвергнуть."
   ]
  },
  {
   "cell_type": "markdown",
   "metadata": {},
   "source": [
    "Проверяем гипотезу о различии средних пользовательские рейтингов жанров Action и Sports.\n",
    "\n",
    "Нулевая гипотеза: средние пользовательские рейтинги жанров Action и Sports одинаковые\n",
    "\n",
    "Альтернативная гипотеза: средний пользовательский рейтинг для жанра Action выше чем для жанра Sports\n",
    "\n",
    "пороговое значение alpha зададим равным 0.05"
   ]
  },
  {
   "cell_type": "code",
   "execution_count": 71,
   "metadata": {},
   "outputs": [
    {
     "name": "stdout",
     "output_type": "stream",
     "text": [
      "3.7163089460934874e-26 Принимаем альтернативную гипотезу\n"
     ]
    }
   ],
   "source": [
    "action = actual.query('genre==\"Action\" and user_score >=0')['user_score']\n",
    "sport = actual.query('genre==\"Sports\" and user_score >=0')['user_score']\n",
    "result = st.ttest_ind(action, sport).pvalue\n",
    "alpha = 0.05\n",
    "if result < alpha:\n",
    "    print(result, 'Принимаем альтернативную гипотезу')\n",
    "else:\n",
    "    print(result, 'Принимаем нулевую гипотезу')"
   ]
  },
  {
   "cell_type": "markdown",
   "metadata": {},
   "source": [
    "<font color='blue'>Здесь та же проблема. Пожалуй, будет уместна цитата из теории:  \n",
    "    \n",
    "*Данные никогда не смогут доказать или подтвердить гипотезу. Это принципиально важно: обладая лишь выборкой, мы никогда не знаем ничего о генеральной совокупности достоверно. А если бы и знали, статистический тест был бы уже не нужен.  \n",
    "Мы можем лишь сделать предположение о генеральной совокупности, и при условии того, что оно верно, посчитать, насколько вероятно увидеть в выборке то, что мы в ней видим. Если эта вероятность относительно высока — данные не дают основания отвергнуть это предположение. Если эта вероятность низка — по наблюдаемым данным можно сделать вывод, что, скорее всего, наше предположение всё-таки неверно (но не опровергнуть его и не доказать обратное).*"
   ]
  },
  {
   "cell_type": "markdown",
   "metadata": {},
   "source": [
    "### Выводы\n",
    "Были проверены две гипотезы о зависимости пользовательского рейтинга в оценке игровых платформ и игровых жанров\n",
    "\n",
    "Не отвергается предположение о том, что средние пользовательские рейтинги платформ Xbox One и PC одинаковы\n",
    "\n",
    "\n",
    "Принято предположение о том, что средние пользовательские рейтинги жанров Action выше, чем у Sports. Косвено об этом может свидетельствовать  объемы продаж игр этих жанров.\n"
   ]
  },
  {
   "cell_type": "markdown",
   "metadata": {},
   "source": [
    "Выяснили, что средние пользовательские рейтинги для платформ XOne и PC  статистически значимо не отличаются\n",
    "Таким образом, остается верным утверждение, что средние пользовательские рейтинги жанров Action и Sports различаются"
   ]
  },
  {
   "cell_type": "markdown",
   "metadata": {},
   "source": [
    "<font color='brown'>В общем, выводы стоит немного подкорректировать. (Хотя результаты и суть верны.)"
   ]
  },
  {
   "cell_type": "markdown",
   "metadata": {},
   "source": [
    "## Общий вывод\n",
    "Для планирования рекламных компаний на 2017 год были проанализированна данные по продажам игр различных жанров, выпущенных для 31 игровой платформы, в период с 1980 по 2016, имеющих пользовательский рейтинг, оценку критиков итд.\n",
    "\n",
    "Установлено:\n",
    "- продажи на рыноке игр и игровых платформ демонстрируют устойчивую тенденцию к снижению.\n",
    "- для адекватного прогноза следует использовать данные за период последних 5 лет (2012-2016)\n",
    "- при планировании глобальных продаж, возможно нужно сделать ставку на платформу PS4, популярную во в всех регионах. Продажи для этой платфомы находятся в стадии роста.\n",
    "- успешней будут продаваться игры имеющие оценки критиков и рейтинг ESRB \"для всех\" (Е)\n",
    "\n",
    "- При планировании региональных рекламных компаний важен учет региональной специфики:\n",
    "Америка- игры жанра Action для PS4, Европа -Action для PS4, в Японии Role-playing для 3DS и PS4\n",
    "\n",
    " "
   ]
  },
  {
   "cell_type": "markdown",
   "metadata": {},
   "source": [
    "<s><font color='brown'>Здесь я бы хотел обратить твое внимание на графики продаж PS3 и X360, без учета 16-го года. Оцени тренды. Стоит ли их выделять, как перпективные платформы?"
   ]
  },
  {
   "cell_type": "markdown",
   "metadata": {},
   "source": [
    "<font color='green'>С остальными выводам вполне согласен. Молодец, что добавил выводы по жанрам."
   ]
  },
  {
   "cell_type": "markdown",
   "metadata": {},
   "source": [
    "<font color='blue'>Итак, у тебя отличный сборный проект. Ты показываешь хорошее владение всем изучаемым в модуле материалом. Уверенно пользуешься pandas, умеешь очищать данные, строишь отличные наглядные визуализации. Делаешь четкие обоснованные выводы. К оформлению работы также претензий нет.  \n",
    " Однако некоторые замечаний у меня все же нашлись, уверен, тебе не составит труда их учесть и довести работу до идеала. Буду ждать доработанный проект, успехов!"
   ]
  },
  {
   "cell_type": "markdown",
   "metadata": {},
   "source": [
    "<b><font color='blue'>Хорошая доработка, принимаю проект. Поздравляю с окончанием модуля, впереди машинное обучение!"
   ]
  },
  {
   "cell_type": "markdown",
   "metadata": {},
   "source": [
    "\n"
   ]
  }
 ],
 "metadata": {
  "kernelspec": {
   "display_name": "Python 3",
   "language": "python",
   "name": "python3"
  },
  "language_info": {
   "codemirror_mode": {
    "name": "ipython",
    "version": 3
   },
   "file_extension": ".py",
   "mimetype": "text/x-python",
   "name": "python",
   "nbconvert_exporter": "python",
   "pygments_lexer": "ipython3",
   "version": "3.7.4"
  }
 },
 "nbformat": 4,
 "nbformat_minor": 2
}

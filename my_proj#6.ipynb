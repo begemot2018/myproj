{
 "cells": [
  {
   "cell_type": "markdown",
   "metadata": {},
   "source": [
    "## Комментарий наставника\n",
    "Привет, Иван! Меня зовут Александр и я буду проверять твой проект. Спасибо за твою работу:) Далее по ходу работы я оставлю свои комментарии и предложения. Постарайся их учесть в этом и дальнейших проектах. Комментарии ты можешь найти в текстовой ячейке с заголовком «Комментарий наставника» (как здесь) либо в ячейках с кодом в следующем виде: «#Комментарий наставника: <сам комментарий>». \\\n",
    "Часть комментариев может быть выделена цветом: \\\n",
    "<span style=\"color:green\">Зелёный цвет символизирует, что всё отлично.</span> \\\n",
    "<span style=\"color:orange\">Оранжевый цвет символизирует рекомендации.</span> \\\n",
    "<span style=\"color:red\">Красный цвет символизирует недочёты.</span> \\\n",
    "<span style=\"color:blue\">Синим цветом отмечен итоговый комментарий.</span>"
   ]
  },
  {
   "cell_type": "markdown",
   "metadata": {},
   "source": [
    "# Отток клиентов"
   ]
  },
  {
   "cell_type": "markdown",
   "metadata": {},
   "source": [
    "Из «Бета-Банка» стали уходить клиенты. Каждый месяц. Немного, но заметно. Банковские маркетологи посчитали: сохранять текущих клиентов дешевле, чем привлекать новых.\n",
    "\n",
    "Нужно спрогнозировать, уйдёт клиент из банка в ближайшее время или нет. Вам предоставлены исторические данные о поведении клиентов и расторжении договоров с банком. \n",
    "\n",
    "Постройте модель с предельно большим значением *F1*-меры. Чтобы сдать проект успешно, нужно довести метрику до 0.59. Проверьте *F1*-меру на тестовой выборке самостоятельно.\n",
    "\n",
    "Дополнительно измеряйте *AUC-ROC*, сравнивайте её значение с *F1*-мерой.\n",
    "\n",
    "Источник данных: [https://www.kaggle.com/barelydedicated/bank-customer-churn-modeling](https://www.kaggle.com/barelydedicated/bank-customer-churn-modeling)"
   ]
  },
  {
   "cell_type": "markdown",
   "metadata": {},
   "source": [
    "### Описание данных\n",
    "\n",
    "Данные находятся в файле /datasets/Churn.csv\n",
    "\n",
    "Признаки\n",
    "* \t\tRowNumber — индекс строки в данных\n",
    "* \t\tCustomerId — уникальный идентификатор клиента\n",
    "* \t\tSurname — фамилия\n",
    "* \t\tCreditScore — кредитный рейтинг\n",
    "* \t\tGeography — страна проживания\n",
    "* \t\tGender — пол\n",
    "* \t\tAge — возраст\n",
    "* \t\tTenure — количество недвижимости у клиента\n",
    "* \t\tBalance — баланс на счёте\n",
    "* \t\tNumOfProducts — количество продуктов банка, используемых клиентом\n",
    "* \t\tHasCrCard — наличие кредитной карты\n",
    "* \t\tIsActiveMember — активность клиента\n",
    "* \t\tEstimatedSalary — предполагаемая зарплата\n",
    "\n",
    "Целевой признак\n",
    "* \t\tExited — факт ухода клиента\n"
   ]
  },
  {
   "cell_type": "markdown",
   "metadata": {},
   "source": [
    "### План работы\n",
    "\n",
    "1 Подготовка данных\n",
    "- знакомство с данными\n",
    "- необходимая предобработка\n",
    "- подготовка наборов данных для обучения валидации и тестирования\n",
    "\n",
    "2 Исследование задачи \n",
    "\n",
    "- определение базовой модели\n",
    "\n",
    "- Применение моделей классификаторов без учета дисбаланса классов\n",
    "\n",
    "Расчет метрик для:\n",
    "\n",
    "- логистической регрессии\n",
    "- решающего дерева\n",
    "- случайного леса\n",
    "\n",
    "3 Борьба с дисбалансом\n",
    "\n",
    "- учет весов классов\n",
    "- искуственное изменение соотношений классов в обучающей выборке\n",
    "- подбор наилучшей модели с учетом дисбаланса и поиском оптимальных значений гиперпараметров\n",
    "\n",
    "4 Тестирование финальной модели"
   ]
  },
  {
   "cell_type": "markdown",
   "metadata": {},
   "source": [
    "## Комментарий наставника\n",
    "<span style=\"color:green\">Отличный план, можно приступать к работе.</span>"
   ]
  },
  {
   "cell_type": "markdown",
   "metadata": {},
   "source": [
    "# 1. Подготовка данных"
   ]
  },
  {
   "cell_type": "markdown",
   "metadata": {},
   "source": [
    "Загрузим необходимые библиотеки и модули"
   ]
  },
  {
   "cell_type": "code",
   "execution_count": 1,
   "metadata": {},
   "outputs": [],
   "source": [
    "import pandas as pd\n",
    "import numpy as np\n",
    "from collections import Counter\n",
    "from sklearn.model_selection import train_test_split\n",
    "from sklearn.metrics import accuracy_score\n",
    "from sklearn.metrics import f1_score\n",
    "from sklearn.metrics import roc_auc_score\n",
    "from sklearn.preprocessing import StandardScaler\n",
    "from sklearn.ensemble import RandomForestClassifier\n",
    "from sklearn.tree import DecisionTreeClassifier, plot_tree\n",
    "from sklearn.linear_model import LogisticRegression\n",
    "from sklearn import metrics, model_selection\n",
    "from sklearn.model_selection import ShuffleSplit\n",
    "from sklearn.utils import shuffle\n",
    "from sklearn.dummy import DummyClassifier\n",
    "from sklearn.compose import make_column_transformer\n",
    "from sklearn.model_selection import RandomizedSearchCV\n",
    "from scipy.stats import randint as sp_randint\n",
    "%matplotlib inline\n",
    "import matplotlib.pyplot as plt\n",
    "import warnings\n",
    "warnings.filterwarnings('ignore')\n"
   ]
  },
  {
   "cell_type": "markdown",
   "metadata": {},
   "source": [
    "Загрузим данные:"
   ]
  },
  {
   "cell_type": "code",
   "execution_count": 2,
   "metadata": {},
   "outputs": [],
   "source": [
    "#df = pd.read_csv('./datasets/Churn.csv')\n",
    "df = pd.read_csv('/datasets/Churn.csv')"
   ]
  },
  {
   "cell_type": "markdown",
   "metadata": {},
   "source": [
    "получим общую информацию:"
   ]
  },
  {
   "cell_type": "code",
   "execution_count": 3,
   "metadata": {},
   "outputs": [
    {
     "name": "stdout",
     "output_type": "stream",
     "text": [
      "<class 'pandas.core.frame.DataFrame'>\n",
      "RangeIndex: 10000 entries, 0 to 9999\n",
      "Data columns (total 14 columns):\n",
      "RowNumber          10000 non-null int64\n",
      "CustomerId         10000 non-null int64\n",
      "Surname            10000 non-null object\n",
      "CreditScore        10000 non-null int64\n",
      "Geography          10000 non-null object\n",
      "Gender             10000 non-null object\n",
      "Age                10000 non-null int64\n",
      "Tenure             9091 non-null float64\n",
      "Balance            10000 non-null float64\n",
      "NumOfProducts      10000 non-null int64\n",
      "HasCrCard          10000 non-null int64\n",
      "IsActiveMember     10000 non-null int64\n",
      "EstimatedSalary    10000 non-null float64\n",
      "Exited             10000 non-null int64\n",
      "dtypes: float64(3), int64(8), object(3)\n",
      "memory usage: 1.1+ MB\n"
     ]
    }
   ],
   "source": [
    "df.info()"
   ]
  },
  {
   "cell_type": "code",
   "execution_count": 4,
   "metadata": {},
   "outputs": [
    {
     "data": {
      "text/html": [
       "<div>\n",
       "<style scoped>\n",
       "    .dataframe tbody tr th:only-of-type {\n",
       "        vertical-align: middle;\n",
       "    }\n",
       "\n",
       "    .dataframe tbody tr th {\n",
       "        vertical-align: top;\n",
       "    }\n",
       "\n",
       "    .dataframe thead th {\n",
       "        text-align: right;\n",
       "    }\n",
       "</style>\n",
       "<table border=\"1\" class=\"dataframe\">\n",
       "  <thead>\n",
       "    <tr style=\"text-align: right;\">\n",
       "      <th></th>\n",
       "      <th>RowNumber</th>\n",
       "      <th>CustomerId</th>\n",
       "      <th>Surname</th>\n",
       "      <th>CreditScore</th>\n",
       "      <th>Geography</th>\n",
       "      <th>Gender</th>\n",
       "      <th>Age</th>\n",
       "      <th>Tenure</th>\n",
       "      <th>Balance</th>\n",
       "      <th>NumOfProducts</th>\n",
       "      <th>HasCrCard</th>\n",
       "      <th>IsActiveMember</th>\n",
       "      <th>EstimatedSalary</th>\n",
       "      <th>Exited</th>\n",
       "    </tr>\n",
       "  </thead>\n",
       "  <tbody>\n",
       "    <tr>\n",
       "      <td>4280</td>\n",
       "      <td>4281</td>\n",
       "      <td>15740527</td>\n",
       "      <td>Lai</td>\n",
       "      <td>766</td>\n",
       "      <td>Germany</td>\n",
       "      <td>Female</td>\n",
       "      <td>62</td>\n",
       "      <td>7.0</td>\n",
       "      <td>142724.48</td>\n",
       "      <td>1</td>\n",
       "      <td>0</td>\n",
       "      <td>1</td>\n",
       "      <td>5893.23</td>\n",
       "      <td>1</td>\n",
       "    </tr>\n",
       "    <tr>\n",
       "      <td>5905</td>\n",
       "      <td>5906</td>\n",
       "      <td>15731519</td>\n",
       "      <td>Kerr</td>\n",
       "      <td>511</td>\n",
       "      <td>France</td>\n",
       "      <td>Female</td>\n",
       "      <td>30</td>\n",
       "      <td>5.0</td>\n",
       "      <td>0.00</td>\n",
       "      <td>2</td>\n",
       "      <td>1</td>\n",
       "      <td>0</td>\n",
       "      <td>143994.86</td>\n",
       "      <td>0</td>\n",
       "    </tr>\n",
       "    <tr>\n",
       "      <td>8461</td>\n",
       "      <td>8462</td>\n",
       "      <td>15758769</td>\n",
       "      <td>Coffey</td>\n",
       "      <td>625</td>\n",
       "      <td>France</td>\n",
       "      <td>Female</td>\n",
       "      <td>44</td>\n",
       "      <td>7.0</td>\n",
       "      <td>0.00</td>\n",
       "      <td>1</td>\n",
       "      <td>1</td>\n",
       "      <td>0</td>\n",
       "      <td>4791.80</td>\n",
       "      <td>0</td>\n",
       "    </tr>\n",
       "    <tr>\n",
       "      <td>630</td>\n",
       "      <td>631</td>\n",
       "      <td>15712403</td>\n",
       "      <td>McMillan</td>\n",
       "      <td>589</td>\n",
       "      <td>France</td>\n",
       "      <td>Female</td>\n",
       "      <td>61</td>\n",
       "      <td>1.0</td>\n",
       "      <td>0.00</td>\n",
       "      <td>1</td>\n",
       "      <td>1</td>\n",
       "      <td>0</td>\n",
       "      <td>61108.56</td>\n",
       "      <td>1</td>\n",
       "    </tr>\n",
       "    <tr>\n",
       "      <td>3822</td>\n",
       "      <td>3823</td>\n",
       "      <td>15626985</td>\n",
       "      <td>Yefremova</td>\n",
       "      <td>850</td>\n",
       "      <td>France</td>\n",
       "      <td>Female</td>\n",
       "      <td>39</td>\n",
       "      <td>NaN</td>\n",
       "      <td>104386.53</td>\n",
       "      <td>1</td>\n",
       "      <td>1</td>\n",
       "      <td>0</td>\n",
       "      <td>105886.77</td>\n",
       "      <td>0</td>\n",
       "    </tr>\n",
       "  </tbody>\n",
       "</table>\n",
       "</div>"
      ],
      "text/plain": [
       "      RowNumber  CustomerId    Surname  CreditScore Geography  Gender  Age  \\\n",
       "4280       4281    15740527        Lai          766   Germany  Female   62   \n",
       "5905       5906    15731519       Kerr          511    France  Female   30   \n",
       "8461       8462    15758769     Coffey          625    France  Female   44   \n",
       "630         631    15712403   McMillan          589    France  Female   61   \n",
       "3822       3823    15626985  Yefremova          850    France  Female   39   \n",
       "\n",
       "      Tenure    Balance  NumOfProducts  HasCrCard  IsActiveMember  \\\n",
       "4280     7.0  142724.48              1          0               1   \n",
       "5905     5.0       0.00              2          1               0   \n",
       "8461     7.0       0.00              1          1               0   \n",
       "630      1.0       0.00              1          1               0   \n",
       "3822     NaN  104386.53              1          1               0   \n",
       "\n",
       "      EstimatedSalary  Exited  \n",
       "4280          5893.23       1  \n",
       "5905        143994.86       0  \n",
       "8461          4791.80       0  \n",
       "630          61108.56       1  \n",
       "3822        105886.77       0  "
      ]
     },
     "execution_count": 4,
     "metadata": {},
     "output_type": "execute_result"
    }
   ],
   "source": [
    "df.sample(5)"
   ]
  },
  {
   "cell_type": "code",
   "execution_count": 5,
   "metadata": {},
   "outputs": [
    {
     "data": {
      "text/html": [
       "<div>\n",
       "<style scoped>\n",
       "    .dataframe tbody tr th:only-of-type {\n",
       "        vertical-align: middle;\n",
       "    }\n",
       "\n",
       "    .dataframe tbody tr th {\n",
       "        vertical-align: top;\n",
       "    }\n",
       "\n",
       "    .dataframe thead th {\n",
       "        text-align: right;\n",
       "    }\n",
       "</style>\n",
       "<table border=\"1\" class=\"dataframe\">\n",
       "  <thead>\n",
       "    <tr style=\"text-align: right;\">\n",
       "      <th></th>\n",
       "      <th>RowNumber</th>\n",
       "      <th>CustomerId</th>\n",
       "      <th>CreditScore</th>\n",
       "      <th>Age</th>\n",
       "      <th>Tenure</th>\n",
       "      <th>Balance</th>\n",
       "      <th>NumOfProducts</th>\n",
       "      <th>HasCrCard</th>\n",
       "      <th>IsActiveMember</th>\n",
       "      <th>EstimatedSalary</th>\n",
       "      <th>Exited</th>\n",
       "    </tr>\n",
       "  </thead>\n",
       "  <tbody>\n",
       "    <tr>\n",
       "      <td>count</td>\n",
       "      <td>10000.00000</td>\n",
       "      <td>1.000000e+04</td>\n",
       "      <td>10000.000000</td>\n",
       "      <td>10000.000000</td>\n",
       "      <td>9091.000000</td>\n",
       "      <td>10000.000000</td>\n",
       "      <td>10000.000000</td>\n",
       "      <td>10000.00000</td>\n",
       "      <td>10000.000000</td>\n",
       "      <td>10000.000000</td>\n",
       "      <td>10000.000000</td>\n",
       "    </tr>\n",
       "    <tr>\n",
       "      <td>mean</td>\n",
       "      <td>5000.50000</td>\n",
       "      <td>1.569094e+07</td>\n",
       "      <td>650.528800</td>\n",
       "      <td>38.921800</td>\n",
       "      <td>4.997690</td>\n",
       "      <td>76485.889288</td>\n",
       "      <td>1.530200</td>\n",
       "      <td>0.70550</td>\n",
       "      <td>0.515100</td>\n",
       "      <td>100090.239881</td>\n",
       "      <td>0.203700</td>\n",
       "    </tr>\n",
       "    <tr>\n",
       "      <td>std</td>\n",
       "      <td>2886.89568</td>\n",
       "      <td>7.193619e+04</td>\n",
       "      <td>96.653299</td>\n",
       "      <td>10.487806</td>\n",
       "      <td>2.894723</td>\n",
       "      <td>62397.405202</td>\n",
       "      <td>0.581654</td>\n",
       "      <td>0.45584</td>\n",
       "      <td>0.499797</td>\n",
       "      <td>57510.492818</td>\n",
       "      <td>0.402769</td>\n",
       "    </tr>\n",
       "    <tr>\n",
       "      <td>min</td>\n",
       "      <td>1.00000</td>\n",
       "      <td>1.556570e+07</td>\n",
       "      <td>350.000000</td>\n",
       "      <td>18.000000</td>\n",
       "      <td>0.000000</td>\n",
       "      <td>0.000000</td>\n",
       "      <td>1.000000</td>\n",
       "      <td>0.00000</td>\n",
       "      <td>0.000000</td>\n",
       "      <td>11.580000</td>\n",
       "      <td>0.000000</td>\n",
       "    </tr>\n",
       "    <tr>\n",
       "      <td>25%</td>\n",
       "      <td>2500.75000</td>\n",
       "      <td>1.562853e+07</td>\n",
       "      <td>584.000000</td>\n",
       "      <td>32.000000</td>\n",
       "      <td>2.000000</td>\n",
       "      <td>0.000000</td>\n",
       "      <td>1.000000</td>\n",
       "      <td>0.00000</td>\n",
       "      <td>0.000000</td>\n",
       "      <td>51002.110000</td>\n",
       "      <td>0.000000</td>\n",
       "    </tr>\n",
       "    <tr>\n",
       "      <td>50%</td>\n",
       "      <td>5000.50000</td>\n",
       "      <td>1.569074e+07</td>\n",
       "      <td>652.000000</td>\n",
       "      <td>37.000000</td>\n",
       "      <td>5.000000</td>\n",
       "      <td>97198.540000</td>\n",
       "      <td>1.000000</td>\n",
       "      <td>1.00000</td>\n",
       "      <td>1.000000</td>\n",
       "      <td>100193.915000</td>\n",
       "      <td>0.000000</td>\n",
       "    </tr>\n",
       "    <tr>\n",
       "      <td>75%</td>\n",
       "      <td>7500.25000</td>\n",
       "      <td>1.575323e+07</td>\n",
       "      <td>718.000000</td>\n",
       "      <td>44.000000</td>\n",
       "      <td>7.000000</td>\n",
       "      <td>127644.240000</td>\n",
       "      <td>2.000000</td>\n",
       "      <td>1.00000</td>\n",
       "      <td>1.000000</td>\n",
       "      <td>149388.247500</td>\n",
       "      <td>0.000000</td>\n",
       "    </tr>\n",
       "    <tr>\n",
       "      <td>max</td>\n",
       "      <td>10000.00000</td>\n",
       "      <td>1.581569e+07</td>\n",
       "      <td>850.000000</td>\n",
       "      <td>92.000000</td>\n",
       "      <td>10.000000</td>\n",
       "      <td>250898.090000</td>\n",
       "      <td>4.000000</td>\n",
       "      <td>1.00000</td>\n",
       "      <td>1.000000</td>\n",
       "      <td>199992.480000</td>\n",
       "      <td>1.000000</td>\n",
       "    </tr>\n",
       "  </tbody>\n",
       "</table>\n",
       "</div>"
      ],
      "text/plain": [
       "         RowNumber    CustomerId   CreditScore           Age       Tenure  \\\n",
       "count  10000.00000  1.000000e+04  10000.000000  10000.000000  9091.000000   \n",
       "mean    5000.50000  1.569094e+07    650.528800     38.921800     4.997690   \n",
       "std     2886.89568  7.193619e+04     96.653299     10.487806     2.894723   \n",
       "min        1.00000  1.556570e+07    350.000000     18.000000     0.000000   \n",
       "25%     2500.75000  1.562853e+07    584.000000     32.000000     2.000000   \n",
       "50%     5000.50000  1.569074e+07    652.000000     37.000000     5.000000   \n",
       "75%     7500.25000  1.575323e+07    718.000000     44.000000     7.000000   \n",
       "max    10000.00000  1.581569e+07    850.000000     92.000000    10.000000   \n",
       "\n",
       "             Balance  NumOfProducts    HasCrCard  IsActiveMember  \\\n",
       "count   10000.000000   10000.000000  10000.00000    10000.000000   \n",
       "mean    76485.889288       1.530200      0.70550        0.515100   \n",
       "std     62397.405202       0.581654      0.45584        0.499797   \n",
       "min         0.000000       1.000000      0.00000        0.000000   \n",
       "25%         0.000000       1.000000      0.00000        0.000000   \n",
       "50%     97198.540000       1.000000      1.00000        1.000000   \n",
       "75%    127644.240000       2.000000      1.00000        1.000000   \n",
       "max    250898.090000       4.000000      1.00000        1.000000   \n",
       "\n",
       "       EstimatedSalary        Exited  \n",
       "count     10000.000000  10000.000000  \n",
       "mean     100090.239881      0.203700  \n",
       "std       57510.492818      0.402769  \n",
       "min          11.580000      0.000000  \n",
       "25%       51002.110000      0.000000  \n",
       "50%      100193.915000      0.000000  \n",
       "75%      149388.247500      0.000000  \n",
       "max      199992.480000      1.000000  "
      ]
     },
     "execution_count": 5,
     "metadata": {},
     "output_type": "execute_result"
    }
   ],
   "source": [
    "df.describe()"
   ]
  },
  {
   "cell_type": "code",
   "execution_count": 6,
   "metadata": {},
   "outputs": [
    {
     "data": {
      "text/plain": [
       "0"
      ]
     },
     "execution_count": 6,
     "metadata": {},
     "output_type": "execute_result"
    }
   ],
   "source": [
    "df.duplicated().sum()"
   ]
  },
  {
   "cell_type": "code",
   "execution_count": 7,
   "metadata": {},
   "outputs": [
    {
     "data": {
      "text/plain": [
       "RowNumber            0\n",
       "CustomerId           0\n",
       "Surname              0\n",
       "CreditScore          0\n",
       "Geography            0\n",
       "Gender               0\n",
       "Age                  0\n",
       "Tenure             909\n",
       "Balance              0\n",
       "NumOfProducts        0\n",
       "HasCrCard            0\n",
       "IsActiveMember       0\n",
       "EstimatedSalary      0\n",
       "Exited               0\n",
       "dtype: int64"
      ]
     },
     "execution_count": 7,
     "metadata": {},
     "output_type": "execute_result"
    }
   ],
   "source": [
    "df.isna().sum()"
   ]
  },
  {
   "cell_type": "markdown",
   "metadata": {},
   "source": [
    "Данные о клиентах содержат 10000 уникальных записей 12 признаков и 1 целевой \"факт ухода\". Есть категорийные \"Geography\", \"Gender\" и численные признаки. Признак Tenure содержит порядка 10% процентов пропусков. Названия переменных содержат символы верхнего и нижнего регистра.\n",
    "\n",
    "Признаки \"индекс строки в данных\",\"уникальный идентификатор клиента\" и \"фамилия\" не имеют значения для решения нашей задачи.\n",
    "Поэтому просто удалим их:"
   ]
  },
  {
   "cell_type": "markdown",
   "metadata": {},
   "source": [
    "## Комментарий наставника\n",
    "<span style=\"color:orange\">Всё так, только у нас не 12 признаков обучения, а 13 и 1 целевой.</span>"
   ]
  },
  {
   "cell_type": "code",
   "execution_count": 8,
   "metadata": {},
   "outputs": [],
   "source": [
    "df =  df.drop(['RowNumber', 'CustomerId', 'Surname'], axis = 1)"
   ]
  },
  {
   "cell_type": "markdown",
   "metadata": {},
   "source": [
    "## Комментарий наставника\n",
    "<span style=\"color:green\">Согласен с решением.</span>"
   ]
  },
  {
   "cell_type": "markdown",
   "metadata": {},
   "source": [
    "__Сделаем названия оставшихся переменных строчными__"
   ]
  },
  {
   "cell_type": "code",
   "execution_count": 9,
   "metadata": {},
   "outputs": [],
   "source": [
    "df.columns = df.columns.str.lower()"
   ]
  },
  {
   "cell_type": "markdown",
   "metadata": {},
   "source": [
    "Снизили вероятность ошибки при ручном вводе названия признака"
   ]
  },
  {
   "cell_type": "markdown",
   "metadata": {},
   "source": []
  },
  {
   "cell_type": "markdown",
   "metadata": {},
   "source": [
    "__Обработка пропусков в столбце tenure__"
   ]
  },
  {
   "cell_type": "markdown",
   "metadata": {},
   "source": [
    "Посмотрим есть ли связь между количеством недвижимости , возрастом, размером депозита и доходом вкладчика"
   ]
  },
  {
   "cell_type": "code",
   "execution_count": 10,
   "metadata": {},
   "outputs": [],
   "source": [
    "columns=df[['age','tenure','balance','estimatedsalary']]"
   ]
  },
  {
   "cell_type": "code",
   "execution_count": 11,
   "metadata": {},
   "outputs": [
    {
     "data": {
      "image/png": "[encoded data removed]",
      "text/plain": [
       "<Figure size 720x720 with 16 Axes>"
      ]
     },
     "metadata": {
      "needs_background": "light"
     },
     "output_type": "display_data"
    }
   ],
   "source": [
    "pd.plotting.scatter_matrix(columns, figsize=(10, 10));"
   ]
  },
  {
   "cell_type": "code",
   "execution_count": 12,
   "metadata": {},
   "outputs": [
    {
     "data": {
      "text/html": [
       "<div>\n",
       "<style scoped>\n",
       "    .dataframe tbody tr th:only-of-type {\n",
       "        vertical-align: middle;\n",
       "    }\n",
       "\n",
       "    .dataframe tbody tr th {\n",
       "        vertical-align: top;\n",
       "    }\n",
       "\n",
       "    .dataframe thead th {\n",
       "        text-align: right;\n",
       "    }\n",
       "</style>\n",
       "<table border=\"1\" class=\"dataframe\">\n",
       "  <thead>\n",
       "    <tr style=\"text-align: right;\">\n",
       "      <th></th>\n",
       "      <th>age</th>\n",
       "      <th>tenure</th>\n",
       "      <th>balance</th>\n",
       "      <th>estimatedsalary</th>\n",
       "    </tr>\n",
       "  </thead>\n",
       "  <tbody>\n",
       "    <tr>\n",
       "      <td>age</td>\n",
       "      <td>1.00</td>\n",
       "      <td>-0.01</td>\n",
       "      <td>0.03</td>\n",
       "      <td>-0.01</td>\n",
       "    </tr>\n",
       "    <tr>\n",
       "      <td>tenure</td>\n",
       "      <td>-0.01</td>\n",
       "      <td>1.00</td>\n",
       "      <td>-0.01</td>\n",
       "      <td>0.01</td>\n",
       "    </tr>\n",
       "    <tr>\n",
       "      <td>balance</td>\n",
       "      <td>0.03</td>\n",
       "      <td>-0.01</td>\n",
       "      <td>1.00</td>\n",
       "      <td>0.01</td>\n",
       "    </tr>\n",
       "    <tr>\n",
       "      <td>estimatedsalary</td>\n",
       "      <td>-0.01</td>\n",
       "      <td>0.01</td>\n",
       "      <td>0.01</td>\n",
       "      <td>1.00</td>\n",
       "    </tr>\n",
       "  </tbody>\n",
       "</table>\n",
       "</div>"
      ],
      "text/plain": [
       "                  age  tenure  balance  estimatedsalary\n",
       "age              1.00   -0.01     0.03            -0.01\n",
       "tenure          -0.01    1.00    -0.01             0.01\n",
       "balance          0.03   -0.01     1.00             0.01\n",
       "estimatedsalary -0.01    0.01     0.01             1.00"
      ]
     },
     "execution_count": 12,
     "metadata": {},
     "output_type": "execute_result"
    }
   ],
   "source": [
    "columns.corr().round(2)"
   ]
  },
  {
   "cell_type": "markdown",
   "metadata": {},
   "source": [
    "сильные взаимосвязи, позволившие бы заполнить пропуски по аналогии, не обнаружены. Поэтому мы удалим строки, содержащие пропуски:"
   ]
  },
  {
   "cell_type": "code",
   "execution_count": 13,
   "metadata": {},
   "outputs": [],
   "source": [
    "df.dropna(inplace = True)"
   ]
  },
  {
   "cell_type": "code",
   "execution_count": 14,
   "metadata": {},
   "outputs": [
    {
     "data": {
      "text/plain": [
       "(9091, 11)"
      ]
     },
     "execution_count": 14,
     "metadata": {},
     "output_type": "execute_result"
    }
   ],
   "source": [
    "df.shape"
   ]
  },
  {
   "cell_type": "markdown",
   "metadata": {},
   "source": [
    "## Комментарий наставника\n",
    "<span style=\"color:orange\">В таких случаях лучше просто заполнить пропуски нулём (предположим, что у клиента нет объектов недвижимости, раз не указано обратное) или медианой по датасету. Это позволит нам сохранить данные путём, возможно, небольшого искажения информации.</span>"
   ]
  },
  {
   "cell_type": "markdown",
   "metadata": {},
   "source": [
    "__Выделим целевой признак и зависимые переменные__"
   ]
  },
  {
   "cell_type": "code",
   "execution_count": 15,
   "metadata": {},
   "outputs": [],
   "source": [
    "features=df.drop('exited', axis=1)"
   ]
  },
  {
   "cell_type": "code",
   "execution_count": 16,
   "metadata": {},
   "outputs": [],
   "source": [
    "target=df['exited']"
   ]
  },
  {
   "cell_type": "markdown",
   "metadata": {},
   "source": [
    "Посмотрим как распределены значения по классам в процентном отношении:"
   ]
  },
  {
   "cell_type": "code",
   "execution_count": 17,
   "metadata": {},
   "outputs": [
    {
     "name": "stdout",
     "output_type": "stream",
     "text": [
      "Класс=1, Число значений=1854, Процент=20.39%\n",
      "Класс=0, Число значений=7237, Процент=79.61%\n"
     ]
    }
   ],
   "source": [
    "classes = target.values \n",
    "counter = Counter(classes) \n",
    "for k,v in counter.items(): \n",
    "    per = v / len(classes) * 100 \n",
    "    print('Класс=%d, Число значений=%d, Процент=%.2f%%' % (k, v, per))"
   ]
  },
  {
   "cell_type": "markdown",
   "metadata": {},
   "source": [
    "Классы не сбалансированы. Это нужно учесть в дальнейшем при подготовке выборок и работе по подбору моделей"
   ]
  },
  {
   "cell_type": "markdown",
   "metadata": {},
   "source": [
    "## Комментарий наставника\n",
    "<span style=\"color:green\">Верно, дисбаланс значительный.</span>"
   ]
  },
  {
   "cell_type": "markdown",
   "metadata": {},
   "source": [
    "__Кодирование категориальных переменных__"
   ]
  },
  {
   "cell_type": "code",
   "execution_count": 18,
   "metadata": {},
   "outputs": [
    {
     "data": {
      "text/html": [
       "<div>\n",
       "<style scoped>\n",
       "    .dataframe tbody tr th:only-of-type {\n",
       "        vertical-align: middle;\n",
       "    }\n",
       "\n",
       "    .dataframe tbody tr th {\n",
       "        vertical-align: top;\n",
       "    }\n",
       "\n",
       "    .dataframe thead th {\n",
       "        text-align: right;\n",
       "    }\n",
       "</style>\n",
       "<table border=\"1\" class=\"dataframe\">\n",
       "  <thead>\n",
       "    <tr style=\"text-align: right;\">\n",
       "      <th></th>\n",
       "      <th>creditscore</th>\n",
       "      <th>age</th>\n",
       "      <th>tenure</th>\n",
       "      <th>balance</th>\n",
       "      <th>numofproducts</th>\n",
       "      <th>hascrcard</th>\n",
       "      <th>isactivemember</th>\n",
       "      <th>estimatedsalary</th>\n",
       "      <th>geography_Germany</th>\n",
       "      <th>geography_Spain</th>\n",
       "      <th>gender_Male</th>\n",
       "    </tr>\n",
       "  </thead>\n",
       "  <tbody>\n",
       "    <tr>\n",
       "      <td>5574</td>\n",
       "      <td>503</td>\n",
       "      <td>36</td>\n",
       "      <td>9.0</td>\n",
       "      <td>0.00</td>\n",
       "      <td>2</td>\n",
       "      <td>1</td>\n",
       "      <td>1</td>\n",
       "      <td>16274.67</td>\n",
       "      <td>0</td>\n",
       "      <td>1</td>\n",
       "      <td>0</td>\n",
       "    </tr>\n",
       "    <tr>\n",
       "      <td>6544</td>\n",
       "      <td>709</td>\n",
       "      <td>45</td>\n",
       "      <td>3.0</td>\n",
       "      <td>104118.50</td>\n",
       "      <td>1</td>\n",
       "      <td>0</td>\n",
       "      <td>1</td>\n",
       "      <td>174032.00</td>\n",
       "      <td>0</td>\n",
       "      <td>0</td>\n",
       "      <td>0</td>\n",
       "    </tr>\n",
       "    <tr>\n",
       "      <td>1571</td>\n",
       "      <td>594</td>\n",
       "      <td>23</td>\n",
       "      <td>5.0</td>\n",
       "      <td>156267.59</td>\n",
       "      <td>1</td>\n",
       "      <td>1</td>\n",
       "      <td>0</td>\n",
       "      <td>160968.44</td>\n",
       "      <td>0</td>\n",
       "      <td>0</td>\n",
       "      <td>1</td>\n",
       "    </tr>\n",
       "    <tr>\n",
       "      <td>8825</td>\n",
       "      <td>611</td>\n",
       "      <td>49</td>\n",
       "      <td>9.0</td>\n",
       "      <td>115488.52</td>\n",
       "      <td>2</td>\n",
       "      <td>1</td>\n",
       "      <td>1</td>\n",
       "      <td>138656.81</td>\n",
       "      <td>1</td>\n",
       "      <td>0</td>\n",
       "      <td>0</td>\n",
       "    </tr>\n",
       "    <tr>\n",
       "      <td>93</td>\n",
       "      <td>769</td>\n",
       "      <td>29</td>\n",
       "      <td>8.0</td>\n",
       "      <td>0.00</td>\n",
       "      <td>2</td>\n",
       "      <td>1</td>\n",
       "      <td>1</td>\n",
       "      <td>172290.61</td>\n",
       "      <td>0</td>\n",
       "      <td>0</td>\n",
       "      <td>1</td>\n",
       "    </tr>\n",
       "  </tbody>\n",
       "</table>\n",
       "</div>"
      ],
      "text/plain": [
       "      creditscore  age  tenure    balance  numofproducts  hascrcard  \\\n",
       "5574          503   36     9.0       0.00              2          1   \n",
       "6544          709   45     3.0  104118.50              1          0   \n",
       "1571          594   23     5.0  156267.59              1          1   \n",
       "8825          611   49     9.0  115488.52              2          1   \n",
       "93            769   29     8.0       0.00              2          1   \n",
       "\n",
       "      isactivemember  estimatedsalary  geography_Germany  geography_Spain  \\\n",
       "5574               1         16274.67                  0                1   \n",
       "6544               1        174032.00                  0                0   \n",
       "1571               0        160968.44                  0                0   \n",
       "8825               1        138656.81                  1                0   \n",
       "93                 1        172290.61                  0                0   \n",
       "\n",
       "      gender_Male  \n",
       "5574            0  \n",
       "6544            0  \n",
       "1571            1  \n",
       "8825            0  \n",
       "93              1  "
      ]
     },
     "execution_count": 18,
     "metadata": {},
     "output_type": "execute_result"
    }
   ],
   "source": [
    "features= pd.get_dummies(features, columns = ['geography', 'gender'], drop_first = True)\n",
    "features.sample(5)"
   ]
  },
  {
   "cell_type": "markdown",
   "metadata": {},
   "source": [
    "## Комментарий наставника\n",
    "<span style=\"color:green\">Признаки закодировали, прекрасно.</span>"
   ]
  },
  {
   "cell_type": "code",
   "execution_count": 19,
   "metadata": {},
   "outputs": [],
   "source": [
    "numeric=['creditscore','age','tenure','balance','estimatedsalary']\n",
    "scaler = StandardScaler()\n",
    "scaler.fit(features[numeric])\n",
    "features[numeric] = scaler.transform(features[numeric])\n"
   ]
  },
  {
   "cell_type": "markdown",
   "metadata": {},
   "source": [
    "## Комментарий наставника\n",
    "<span style=\"color:orange\">Применяй масштабирование уже после того, как разбил датасет на выборки. Это нужно для того, чтобы обучать (с помощью метода **fit**) Scaler на тренировочной выборке, а после этого уже трансформировать (с помощью **transform**) все выборки (включая и тренировочную). Применяя такой подход, мы сможем получить более справедливую оценку модели на валидационной/тестовой выборках. Подробнее см. по ссылке в блоке «**Data transformation with held out data**»: https://scikit-learn.org/stable/modules/cross_validation.html#computing-cross-validated-metrics.</span>"
   ]
  },
  {
   "cell_type": "markdown",
   "metadata": {},
   "source": [
    "__Деление данных на обучающую, валидационную и тестовую выборки__"
   ]
  },
  {
   "cell_type": "markdown",
   "metadata": {},
   "source": [
    "для разбиения данных на выборки используем стандартную функцию train_test_split из библиотеки scikit_learn Разбиение в соотношении 7:1,5:1,5 для обучающей, валидационной и тестовой выборок. Поскольку мы имеем дисбаланс классов, то задаем условия разбиения с параметром stratify, позволящим сохранить соотношения классов во всех выборках для целевой переменной"
   ]
  },
  {
   "cell_type": "code",
   "execution_count": 20,
   "metadata": {},
   "outputs": [],
   "source": [
    "X_train, X_test, y_train, y_test = train_test_split(features, target, test_size=0.3, stratify=target)\n",
    "X_train, X_val, y_train, y_val = train_test_split(X_train, y_train, test_size=0.5, stratify=y_train)"
   ]
  },
  {
   "cell_type": "code",
   "execution_count": 21,
   "metadata": {},
   "outputs": [
    {
     "data": {
      "text/plain": [
       "((3181, 11), (3182, 11), (2728, 11))"
      ]
     },
     "execution_count": 21,
     "metadata": {},
     "output_type": "execute_result"
    }
   ],
   "source": [
    "X_train.shape, X_val.shape, X_test.shape"
   ]
  },
  {
   "cell_type": "markdown",
   "metadata": {},
   "source": [
    "## Комментарий наставника\n",
    "<span style=\"color:orange\">А вот так не надо поступать. Ты оставил очень уж мало данных для обучения, советую оставлять не менее 60% от всего датасета, у тебя тут явно менее. Основной выборкой всегда является именно тренировочная, ведь модели мы обучаем на ней, поэтому она должна быть явно больше по объёму, чем валидационная или тестовая.</span>"
   ]
  },
  {
   "cell_type": "markdown",
   "metadata": {},
   "source": [
    "### Выводы\n",
    "Данные о клиентах содержат 10000 уникальных записей 12 признаков и 1 целевой \"факт ухода\". \n",
    "В ходе подготовки данных были удалены не релевантные  признаки и строки с пропусками. \n",
    "Было проведено one_hot кодирование категорийных признаков с учетом избыточности.\n",
    "Численные переменные стандартизованы.\n",
    "Датасет разделен на зависимые и целевой признаки.\n",
    "Для целей обучения проверки и тестирования датасеты были разделены на 3 части в соотношениях 7:1,5:1,5\n",
    "- "
   ]
  },
  {
   "cell_type": "markdown",
   "metadata": {},
   "source": [
    "## Комментарий наставника\n",
    "<span style=\"color:green\">Вопросов нет, переходим к исследованию задачи.</span>"
   ]
  },
  {
   "cell_type": "markdown",
   "metadata": {},
   "source": [
    "# 2. Исследование задачи"
   ]
  },
  {
   "cell_type": "markdown",
   "metadata": {},
   "source": [
    "__Создание базовой классификационной модели__\n",
    "\n",
    "Общепринятая мера результативности классификатора-показатель того, насколько он лучше чем случайное угадывание.\n",
    "Построим нашу базовую модель \"baseline_clf\" на основе фиктивного классификатора DummyClassifier, выполняющего отнесение к классам на основе простых правил. Выбор значения параметра strategy='stratified' означает, что отнесение наблюдения к тому или иному классу пропорциональны долям классов в выборке.\n",
    "Построим и обучим на его основе нашу базовую модель:"
   ]
  },
  {
   "cell_type": "code",
   "execution_count": 22,
   "metadata": {},
   "outputs": [
    {
     "name": "stdout",
     "output_type": "stream",
     "text": [
      "DummyClassifier(constant=None, random_state=12345, strategy='stratified')\n",
      "accuracy:  0.6731615336266499\n",
      "roc_auc:   0.4978846255619962\n",
      "f1:        0.20122887864823352\n"
     ]
    }
   ],
   "source": [
    "baseline_clf = DummyClassifier(strategy='stratified',random_state=12345)\n",
    "baseline_clf.fit(X_train, y_train)\n",
    "baseline_predict=baseline_clf.predict(X_val)\n",
    "pred_prob = baseline_clf.predict_proba(X_val)[:,1]\n",
    "accuracy_score(y_val,baseline_predict) #Комментарий наставника: лишняя строка кода получилась\n",
    "print(baseline_clf)\n",
    "print('accuracy: ', accuracy_score(y_val,baseline_predict))\n",
    "print('roc_auc:  ', roc_auc_score(y_val, pred_prob))\n",
    "print('f1:       ', f1_score(y_val,baseline_predict))"
   ]
  },
  {
   "cell_type": "markdown",
   "metadata": {},
   "source": [
    "## Комментарий наставника\n",
    "<span style=\"color:green\">За константную модель +!</span>"
   ]
  },
  {
   "cell_type": "markdown",
   "metadata": {},
   "source": [
    "__Оценка применимости различных моделей классификации__\n",
    "\n",
    "Оценим  различные классификаторы с параметрами, заданными по умолчанию. В качестве критерия оценки будем использовать значения __accuracy_score, roc_auc_score и f1__\n"
   ]
  },
  {
   "cell_type": "code",
   "execution_count": 23,
   "metadata": {},
   "outputs": [
    {
     "name": "stdout",
     "output_type": "stream",
     "text": [
      "LogisticRegression(C=1.0, class_weight=None, dual=False, fit_intercept=True,\n",
      "                   intercept_scaling=1, l1_ratio=None, max_iter=100,\n",
      "                   multi_class='warn', n_jobs=None, penalty='l2',\n",
      "                   random_state=12345, solver='liblinear', tol=0.0001,\n",
      "                   verbose=0, warm_start=False)\n",
      "accuracy:  0.8086109365179133\n",
      "roc_auc:   0.7579604079768018\n",
      "f1:        0.29595375722543354\n",
      "DecisionTreeClassifier(class_weight=None, criterion='gini', max_depth=None,\n",
      "                       max_features=None, max_leaf_nodes=None,\n",
      "                       min_impurity_decrease=0.0, min_impurity_split=None,\n",
      "                       min_samples_leaf=1, min_samples_split=2,\n",
      "                       min_weight_fraction_leaf=0.0, presort=False,\n",
      "                       random_state=12345, splitter='best')\n",
      "accuracy:  0.798240100565682\n",
      "roc_auc:   0.6962091151803892\n",
      "f1:        0.5143721633888049\n",
      "RandomForestClassifier(bootstrap=True, class_weight=None, criterion='gini',\n",
      "                       max_depth=None, max_features='auto', max_leaf_nodes=None,\n",
      "                       min_impurity_decrease=0.0, min_impurity_split=None,\n",
      "                       min_samples_leaf=1, min_samples_split=2,\n",
      "                       min_weight_fraction_leaf=0.0, n_estimators=10,\n",
      "                       n_jobs=None, oob_score=False, random_state=12345,\n",
      "                       verbose=0, warm_start=False)\n",
      "accuracy:  0.8412947831552483\n",
      "roc_auc:   0.8096296832504318\n",
      "f1:        0.5176695319961796\n"
     ]
    }
   ],
   "source": [
    "models = [LogisticRegression(random_state=12345, solver='liblinear'),\n",
    "          DecisionTreeClassifier( random_state=12345), \n",
    "          RandomForestClassifier( random_state=12345)]\n",
    "\n",
    "for model in models:\n",
    "    model.fit(X_train, y_train)\n",
    "    pred_valid = model.predict(X_val)\n",
    "    pred_prob = model.predict_proba(X_val)[:, 1]\n",
    "    print(model)\n",
    "    print('accuracy: ', accuracy_score(y_val, pred_valid))\n",
    "    print('roc_auc:  ', roc_auc_score(y_val, pred_prob))\n",
    "    print('f1:       ', f1_score(y_val, pred_valid))"
   ]
  },
  {
   "cell_type": "markdown",
   "metadata": {},
   "source": [
    "## Комментарий наставника\n",
    "<span style=\"color:green\">Здорово, что используешь цикл. Очень компактно всё получилось.</span>"
   ]
  },
  {
   "cell_type": "markdown",
   "metadata": {},
   "source": [
    "### Выводы\n",
    "В рамках исследования задачи была определена базовая классификационная модель, результат предсказания которой зависит лишь от соотношения классов в целевой переменной. Рачитанные на ее основе метрики дают нам возможность проверить адекватность используемых классификаторов.\n",
    "\n",
    "Для решения задачи оттока клиентов были выбраны три классификационные модели:\n",
    "- логистическая регрессия\n",
    "- решающее дерево\n",
    "- случайный лес\n",
    "\n",
    "Все три классификатора  с параметрами, заданными по умолчанию, и без учета дисбаланса классов показали лучший результат по сравнению с базовой классификационной моделью. Значение ROC_AUC параметра больше 0.5 для базового классификатора.\n",
    "\n",
    "Пренебрежение несбалансированностью классов не дало возможности построить модель с значением F1 меры, приближающейся к пороговой (0.59)"
   ]
  },
  {
   "cell_type": "markdown",
   "metadata": {},
   "source": [
    "## Комментарий наставника\n",
    "<span style=\"color:green\">Всё верно, идём далее.</span>"
   ]
  },
  {
   "cell_type": "markdown",
   "metadata": {},
   "source": [
    "# 3. Борьба с дисбалансом"
   ]
  },
  {
   "cell_type": "markdown",
   "metadata": {},
   "source": [
    "__Учет весов для классов__\n",
    "\n",
    "Для всех наших классификаторов применим параметр class weight=balanced, учтывающий веса классов"
   ]
  },
  {
   "cell_type": "code",
   "execution_count": 24,
   "metadata": {},
   "outputs": [
    {
     "name": "stdout",
     "output_type": "stream",
     "text": [
      "LogisticRegression(C=1.0, class_weight='balanced', dual=False,\n",
      "                   fit_intercept=True, intercept_scaling=1, l1_ratio=None,\n",
      "                   max_iter=100, multi_class='warn', n_jobs=None, penalty='l2',\n",
      "                   random_state=12345, solver='liblinear', tol=0.0001,\n",
      "                   verbose=0, warm_start=False)\n",
      "accuracy:  0.7058453802639849\n",
      "roc_auc:   0.7607427868925256\n",
      "f1:        0.48627881448957183\n",
      "DecisionTreeClassifier(class_weight='balanced', criterion='gini',\n",
      "                       max_depth=None, max_features=None, max_leaf_nodes=None,\n",
      "                       min_impurity_decrease=0.0, min_impurity_split=None,\n",
      "                       min_samples_leaf=1, min_samples_split=2,\n",
      "                       min_weight_fraction_leaf=0.0, presort=False,\n",
      "                       random_state=12345, splitter='best')\n",
      "accuracy:  0.7856693903205532\n",
      "roc_auc:   0.6757068635460306\n",
      "f1:        0.4825493171471927\n",
      "RandomForestClassifier(bootstrap=True, class_weight='balanced',\n",
      "                       criterion='gini', max_depth=None, max_features='auto',\n",
      "                       max_leaf_nodes=None, min_impurity_decrease=0.0,\n",
      "                       min_impurity_split=None, min_samples_leaf=1,\n",
      "                       min_samples_split=2, min_weight_fraction_leaf=0.0,\n",
      "                       n_estimators=10, n_jobs=None, oob_score=False,\n",
      "                       random_state=12345, verbose=0, warm_start=False)\n",
      "accuracy:  0.8541797611565053\n",
      "roc_auc:   0.8067624460359009\n",
      "f1:        0.5450980392156863\n"
     ]
    }
   ],
   "source": [
    "models = [LogisticRegression(random_state=12345, solver='liblinear',class_weight = 'balanced'),\n",
    "          DecisionTreeClassifier( random_state=12345,class_weight = 'balanced'), \n",
    "          RandomForestClassifier( random_state=12345,class_weight = 'balanced')]\n",
    "\n",
    "for model in models:\n",
    "    model.fit(X_train, y_train)\n",
    "    pred_valid = model.predict(X_val)\n",
    "    pred_prob = model.predict_proba(X_val)[:, 1]\n",
    "    print(model)\n",
    "    print('accuracy: ', accuracy_score(y_val, pred_valid))\n",
    "    print('roc_auc:  ', roc_auc_score(y_val, pred_prob))\n",
    "    print('f1:       ', f1_score(y_val, pred_valid))"
   ]
  },
  {
   "cell_type": "markdown",
   "metadata": {},
   "source": [
    "Значение f1 метрики сильно возросла для логистической регрессии, но понизилась для классификатора случайного леса, по сравнению с результатами моделей без учета дисбаланса. Метрика roc_auc намного выше у всех классификаторов по сравнению с базовой моделью, то есть доля правильно классифицированных объектов выше нежели чем при случайном выборе. Модели вполне адекватны."
   ]
  },
  {
   "cell_type": "markdown",
   "metadata": {},
   "source": [
    "## Комментарий наставника\n",
    "<span style=\"color:green\">На взвешивание классов посмотрели, оценки по всем нужным метрикам есть.</span>"
   ]
  },
  {
   "cell_type": "markdown",
   "metadata": {},
   "source": [
    "__Увеличение размера редкого класса__"
   ]
  },
  {
   "cell_type": "code",
   "execution_count": 25,
   "metadata": {},
   "outputs": [],
   "source": [
    "def upsample(features, target, repeat):\n",
    "    features_zeros = features[target == 0]\n",
    "    features_ones = features[target == 1]\n",
    "    target_zeros = target[target == 0]\n",
    "    target_ones = target[target == 1]\n",
    "    features_upsampled = pd.concat([features_zeros] + [features_ones] * repeat)\n",
    "    target_upsampled = pd.concat([target_zeros] + [target_ones] * repeat)\n",
    "    return shuffle(features_upsampled, target_upsampled, random_state=12345)\n",
    "\n"
   ]
  },
  {
   "cell_type": "code",
   "execution_count": 26,
   "metadata": {},
   "outputs": [],
   "source": [
    "X_train_up, y_train_up = upsample(X_train, y_train, 3)"
   ]
  },
  {
   "cell_type": "code",
   "execution_count": 27,
   "metadata": {},
   "outputs": [
    {
     "name": "stdout",
     "output_type": "stream",
     "text": [
      "LogisticRegression(C=1.0, class_weight=None, dual=False, fit_intercept=True,\n",
      "                   intercept_scaling=1, l1_ratio=None, max_iter=100,\n",
      "                   multi_class='warn', n_jobs=None, penalty='l2',\n",
      "                   random_state=12345, solver='liblinear', tol=0.0001,\n",
      "                   verbose=0, warm_start=False)\n",
      "accuracy:  0.7520427404148334\n",
      "roc_auc:   0.7603869295104314\n",
      "f1:        0.49520153550863716\n",
      "DecisionTreeClassifier(class_weight=None, criterion='gini', max_depth=None,\n",
      "                       max_features=None, max_leaf_nodes=None,\n",
      "                       min_impurity_decrease=0.0, min_impurity_split=None,\n",
      "                       min_samples_leaf=1, min_samples_split=2,\n",
      "                       min_weight_fraction_leaf=0.0, presort=False,\n",
      "                       random_state=12345, splitter='best')\n",
      "accuracy:  0.7969830295411691\n",
      "roc_auc:   0.687970256405889\n",
      "f1:        0.5030769230769231\n",
      "RandomForestClassifier(bootstrap=True, class_weight=None, criterion='gini',\n",
      "                       max_depth=None, max_features='auto', max_leaf_nodes=None,\n",
      "                       min_impurity_decrease=0.0, min_impurity_split=None,\n",
      "                       min_samples_leaf=1, min_samples_split=2,\n",
      "                       min_weight_fraction_leaf=0.0, n_estimators=10,\n",
      "                       n_jobs=None, oob_score=False, random_state=12345,\n",
      "                       verbose=0, warm_start=False)\n",
      "accuracy:  0.835323695788812\n",
      "roc_auc:   0.807242397274315\n",
      "f1:        0.5427574171029669\n"
     ]
    }
   ],
   "source": [
    "models = [LogisticRegression(random_state=12345, solver='liblinear'),\n",
    "          DecisionTreeClassifier( random_state=12345), \n",
    "          RandomForestClassifier( random_state=12345)]\n",
    "\n",
    "for model in models:\n",
    "    model.fit(X_train_up, y_train_up)\n",
    "    pred_valid = model.predict(X_val)\n",
    "    pred_prob = model.predict_proba(X_val)[:, 1]\n",
    "    print(model)\n",
    "    print('accuracy: ', accuracy_score(y_val, pred_valid))\n",
    "    print('roc_auc:  ', roc_auc_score(y_val, pred_prob))\n",
    "    print('f1:       ', f1_score(y_val, pred_valid))"
   ]
  },
  {
   "cell_type": "markdown",
   "metadata": {},
   "source": [
    "## Комментарий наставника\n",
    "<span style=\"color:green\">К upsampling тоже нечего добавить.</span>"
   ]
  },
  {
   "cell_type": "markdown",
   "metadata": {},
   "source": [
    "__Уменьшение размера данных большего класса__"
   ]
  },
  {
   "cell_type": "code",
   "execution_count": 28,
   "metadata": {},
   "outputs": [],
   "source": [
    "def downsample(features, target, fraction):\n",
    "    features_zeros = features[target == 0]\n",
    "    features_ones = features[target == 1]\n",
    "    target_zeros = target[target == 0]\n",
    "    target_ones = target[target == 1]\n",
    "\n",
    "    features_downsampled = pd.concat(\n",
    "        [features_zeros.sample(frac=fraction, random_state=12345)] + [features_ones])\n",
    "    target_downsampled = pd.concat(\n",
    "        [target_zeros.sample(frac=fraction, random_state=12345)] + [target_ones])\n",
    "    \n",
    "    features_downsampled, target_downsampled = shuffle(\n",
    "        features_downsampled, target_downsampled, random_state=12345)\n",
    "    \n",
    "    return features_downsampled, target_downsampled"
   ]
  },
  {
   "cell_type": "code",
   "execution_count": 29,
   "metadata": {},
   "outputs": [],
   "source": [
    "X_train_down, y_train_down = downsample(X_train, y_train, 0.6)"
   ]
  },
  {
   "cell_type": "markdown",
   "metadata": {},
   "source": [
    "## Комментарий наставника\n",
    "<span style=\"color:orange\">К downsampling можно было бы подобрать лучший коэффициент, который позволил бы ещё больше сбалансировать наши классы. Подумай, во сколько раз нужно уменьшить число объектов наиболее представленного в датасете класса, чтобы нивелировать дисбаланс и привести соотношение классов примерно к 1:1?</span>"
   ]
  },
  {
   "cell_type": "code",
   "execution_count": 30,
   "metadata": {},
   "outputs": [
    {
     "name": "stdout",
     "output_type": "stream",
     "text": [
      "LogisticRegression(C=1.0, class_weight=None, dual=False, fit_intercept=True,\n",
      "                   intercept_scaling=1, l1_ratio=None, max_iter=100,\n",
      "                   multi_class='warn', n_jobs=None, penalty='l2',\n",
      "                   random_state=12345, solver='liblinear', tol=0.0001,\n",
      "                   verbose=0, warm_start=False)\n",
      "accuracy:  0.7985543683218101\n",
      "roc_auc:   0.7588047328423515\n",
      "f1:        0.4178019981834696\n",
      "DecisionTreeClassifier(class_weight=None, criterion='gini', max_depth=None,\n",
      "                       max_features=None, max_leaf_nodes=None,\n",
      "                       min_impurity_decrease=0.0, min_impurity_split=None,\n",
      "                       min_samples_leaf=1, min_samples_split=2,\n",
      "                       min_weight_fraction_leaf=0.0, presort=False,\n",
      "                       random_state=12345, splitter='best')\n",
      "accuracy:  0.754242614707731\n",
      "roc_auc:   0.6914947652466639\n",
      "f1:        0.49286640726329445\n",
      "RandomForestClassifier(bootstrap=True, class_weight=None, criterion='gini',\n",
      "                       max_depth=None, max_features='auto', max_leaf_nodes=None,\n",
      "                       min_impurity_decrease=0.0, min_impurity_split=None,\n",
      "                       min_samples_leaf=1, min_samples_split=2,\n",
      "                       min_weight_fraction_leaf=0.0, n_estimators=10,\n",
      "                       n_jobs=None, oob_score=False, random_state=12345,\n",
      "                       verbose=0, warm_start=False)\n",
      "accuracy:  0.8346951602765557\n",
      "roc_auc:   0.8073601039468538\n",
      "f1:        0.5473321858864028\n"
     ]
    }
   ],
   "source": [
    "models = [LogisticRegression(random_state=12345, solver='liblinear'),\n",
    "          DecisionTreeClassifier( random_state=12345), \n",
    "          RandomForestClassifier( random_state=12345)]\n",
    "\n",
    "for model in models:\n",
    "    model.fit(X_train_down, y_train_down)\n",
    "    pred_valid = model.predict(X_val)\n",
    "    pred_prob = model.predict_proba(X_val)[:, 1]\n",
    "    print(model)\n",
    "    print('accuracy: ', accuracy_score(y_val, pred_valid))\n",
    "    print('roc_auc:  ', roc_auc_score(y_val, pred_prob))\n",
    "    print('f1:       ', f1_score(y_val, pred_valid))"
   ]
  },
  {
   "cell_type": "markdown",
   "metadata": {},
   "source": [
    "Учет дисбаланса классов в общем случае ведет к улучшению качества предсказаний"
   ]
  },
  {
   "cell_type": "markdown",
   "metadata": {},
   "source": [
    "## Комментарий наставника\n",
    "<span style=\"color:orange\">Советую пробовать для каждого метода подбирать параметры к моделям. Далеко не факт, что модель с подобранными параметрами под лучший метод борьбы с дисбалансом окажется лучшей вообще.</span>"
   ]
  },
  {
   "cell_type": "markdown",
   "metadata": {},
   "source": [
    "__Подбор параметров для \"наилучшей модели__\n",
    "\n",
    "До сих пор мы обучали и тестировали модели классификации с параметрами, заданными по умолчанию. Теперь попробуем найти \"лучшую\" модель путем подбора параметров методом случайного поиска по пространству признаков. Границы значений для гиперпараметров зададим в переменной param_dist. Для учета дисбаланса учтем соотношение классов добавлением параметра  class_weight='balanced'"
   ]
  },
  {
   "cell_type": "code",
   "execution_count": 31,
   "metadata": {},
   "outputs": [],
   "source": [
    "model_RF=RandomForestClassifier( random_state=12345,class_weight='balanced')"
   ]
  },
  {
   "cell_type": "code",
   "execution_count": 32,
   "metadata": {},
   "outputs": [],
   "source": [
    "param_dist = {\"max_depth\": sp_randint(2, 11),\n",
    "              \"max_features\": sp_randint(1, 11),\n",
    "              \"min_samples_split\": sp_randint(2, 11),\n",
    "              \"min_samples_leaf\": sp_randint(1, 11),\n",
    "              \"n_estimators\": sp_randint(10, 101)\n",
    "             }"
   ]
  },
  {
   "cell_type": "code",
   "execution_count": 33,
   "metadata": {},
   "outputs": [],
   "source": [
    "n_iter_search = 40\n",
    "random_search = RandomizedSearchCV(model_RF, param_distributions=param_dist,\n",
    "                                   n_iter=n_iter_search)"
   ]
  },
  {
   "cell_type": "markdown",
   "metadata": {},
   "source": [
    "## Комментарий наставника\n",
    "<span style=\"color:green\">Интересное решение с рандомизированным подбором параметров, молодец!</span>"
   ]
  },
  {
   "cell_type": "code",
   "execution_count": 34,
   "metadata": {},
   "outputs": [
    {
     "name": "stdout",
     "output_type": "stream",
     "text": [
      "RandomizedSearchCV(cv='warn', error_score='raise-deprecating',\n",
      "                   estimator=RandomForestClassifier(bootstrap=True,\n",
      "                                                    class_weight='balanced',\n",
      "                                                    criterion='gini',\n",
      "                                                    max_depth=None,\n",
      "                                                    max_features='auto',\n",
      "                                                    max_leaf_nodes=None,\n",
      "                                                    min_impurity_decrease=0.0,\n",
      "                                                    min_impurity_split=None,\n",
      "                                                    min_samples_leaf=1,\n",
      "                                                    min_samples_split=2,\n",
      "                                                    min_weight_fraction_leaf=0.0,\n",
      "                                                    n_estimators='warn',\n",
      "                                                    n_jobs=...\n",
      "                                        'min_samples_leaf': <scipy.stats._distn_infrastructure.rv_frozen object at 0x7f9e141d7a50>,\n",
      "                                        'min_samples_split': <scipy.stats._distn_infrastructure.rv_frozen object at 0x7f9e141d79d0>,\n",
      "                                        'n_estimators': <scipy.stats._distn_infrastructure.rv_frozen object at 0x7f9e14d11550>},\n",
      "                   pre_dispatch='2*n_jobs', random_state=None, refit=True,\n",
      "                   return_train_score=False, scoring=None, verbose=0)\n",
      "accuracy:  0.8180389692017599\n",
      "roc_auc:   0.8412255606578677\n",
      "f1:        0.5998617829993089\n"
     ]
    }
   ],
   "source": [
    "random_search.fit(X_train_down, y_train_down)\n",
    "pred_valid = random_search.predict(X_val)\n",
    "pred_prob = random_search.predict_proba(X_val)[:, 1]\n",
    "print(random_search)\n",
    "print('accuracy: ', accuracy_score(y_val, pred_valid))\n",
    "print('roc_auc:  ', roc_auc_score(y_val, pred_prob))\n",
    "print('f1:       ', f1_score(y_val, pred_valid))"
   ]
  },
  {
   "cell_type": "markdown",
   "metadata": {},
   "source": [
    "## Комментарий наставника\n",
    "<span style=\"color:orange\">Кросс-валидацию не совсем верно здесь применять по следующей причине: на каждом фолде (итерации) наша выборка делится на 2 непересекающиеся части: малую тренировочную и валидационную. Так вот валидационная часть (как и валидационная/тестовая выборки) должна оставаться нетронутой и отражать ситуацию с данными «как есть». Но мы применили downsampling ко всей кросс-валидационной выборке, поэтому это условие нарушено. Из-за этого подбор модели встроенными средствами sklearn не совсем корректен. Здесь либо писать свою реализацию кросс-валидации, либо оценивать модель и подбирать параметры с помощью валидационной выборки.</span>"
   ]
  },
  {
   "cell_type": "markdown",
   "metadata": {},
   "source": [
    "Получим параметры для \"лучшей\" модели"
   ]
  },
  {
   "cell_type": "code",
   "execution_count": 35,
   "metadata": {},
   "outputs": [
    {
     "data": {
      "text/plain": [
       "RandomForestClassifier(bootstrap=True, class_weight='balanced',\n",
       "                       criterion='gini', max_depth=9, max_features=8,\n",
       "                       max_leaf_nodes=None, min_impurity_decrease=0.0,\n",
       "                       min_impurity_split=None, min_samples_leaf=2,\n",
       "                       min_samples_split=3, min_weight_fraction_leaf=0.0,\n",
       "                       n_estimators=30, n_jobs=None, oob_score=False,\n",
       "                       random_state=12345, verbose=0, warm_start=False)"
      ]
     },
     "execution_count": 35,
     "metadata": {},
     "output_type": "execute_result"
    }
   ],
   "source": [
    "random_search.best_estimator_"
   ]
  },
  {
   "cell_type": "markdown",
   "metadata": {},
   "source": [
    "### Выводы\n",
    "\n",
    "Изучена влияние  различных методов учета дисбаланса классов на конечный результат. Судя по значениям метрик:\n",
    "-для логистической регрессии и дерева решений все примененные  методы учета дисбаланса улучшают качество предсказаний. Для случайного леса введение весов классов оказывает негативное влияние на результат. В то же время искуственное увеличение данных минорного класса или уменьшение в обучающей выборке данных для для большего класса положительно влияет на качество модели.\n",
    "\n",
    "Все обучение проводилось на моделях, содержащих параметры по умолчанию.\n",
    "\n",
    "Для учета влияния гиперпараметров и подбора наилучшей модели для классификатора случайного леса был применен случайный поиск по заданнному пространству пяти гиперпараметров.\n",
    "\n",
    "Выбор в пользу случайного поиска был сделан из соображений экономии времени.\n",
    "\n",
    "Полученная итоговая модель показала значение F1 меры -0.61\n",
    "\n",
    "Для всех моделей метрика roc_auc, характеризующая долю правильно классифицированных объектов по сравнению со случайным выбором больше 0.5\n",
    "\n",
    "Проверка модели на тестовых данных будет проведена ниже.\n"
   ]
  },
  {
   "cell_type": "markdown",
   "metadata": {},
   "source": [
    "## Комментарий наставника\n",
    "<span style=\"color:green\">Хорошо, переходим к тестированию.</span>"
   ]
  },
  {
   "cell_type": "markdown",
   "metadata": {},
   "source": [
    "# 4. Тестирование модели"
   ]
  },
  {
   "cell_type": "markdown",
   "metadata": {},
   "source": [
    "Для тестирования возьмем модель классификатора случайного леса с балансировкой весов, с параметрами полученными при случайном поиске на предидущем этапе."
   ]
  },
  {
   "cell_type": "code",
   "execution_count": 36,
   "metadata": {},
   "outputs": [],
   "source": [
    "best_clf=RandomForestClassifier(bootstrap=True, class_weight='balanced',\n",
    "                       criterion='gini', max_depth=9, max_features=8,\n",
    "                       max_leaf_nodes=None, min_impurity_decrease=0.0,\n",
    "                       min_impurity_split=None, min_samples_leaf=1,\n",
    "                       min_samples_split=10, min_weight_fraction_leaf=0.0,\n",
    "                       n_estimators=20, n_jobs=None, oob_score=False,\n",
    "                       random_state=12345, verbose=0, warm_start=False)\n"
   ]
  },
  {
   "cell_type": "markdown",
   "metadata": {},
   "source": [
    "Для улучшения обучения объединим валидационную(больше не нужна) и тренировочную выборку:"
   ]
  },
  {
   "cell_type": "code",
   "execution_count": 37,
   "metadata": {},
   "outputs": [
    {
     "data": {
      "text/plain": [
       "((6363, 11), (6363,))"
      ]
     },
     "execution_count": 37,
     "metadata": {},
     "output_type": "execute_result"
    }
   ],
   "source": [
    "X_train_L = X_train.merge(X_val, how='outer')\n",
    "y_train_L = pd.concat([y_train, y_val])\n",
    "X_train_L.shape,y_train_L.shape"
   ]
  },
  {
   "cell_type": "markdown",
   "metadata": {},
   "source": [
    "## Комментарий наставника\n",
    "<span style=\"color:green\">Правильный подход.</span>"
   ]
  },
  {
   "cell_type": "code",
   "execution_count": 38,
   "metadata": {},
   "outputs": [
    {
     "name": "stdout",
     "output_type": "stream",
     "text": [
      "\n",
      "accuracy:  0.8332111436950147\n",
      "roc_auc:   0.8638509082236973\n",
      "f1:        0.6217788861180382\n"
     ]
    }
   ],
   "source": [
    "best_clf.fit(X_train_L, y_train_L)\n",
    "pred_valid = best_clf.predict(X_test)\n",
    "pred_prob = best_clf.predict_proba(X_test)[:, 1]\n",
    "print()\n",
    "print('accuracy: ', accuracy_score(y_test, pred_valid))\n",
    "print('roc_auc:  ', roc_auc_score(y_test, pred_prob))\n",
    "print('f1:       ', f1_score(y_test, pred_valid))"
   ]
  },
  {
   "cell_type": "markdown",
   "metadata": {},
   "source": [
    "Итоговая модель на тестовой выборке показала значение F1 меры 0.597 > 0.59"
   ]
  },
  {
   "cell_type": "markdown",
   "metadata": {},
   "source": [
    "## Комментарий наставника\n",
    "<span style=\"color:green\">Поздравляю, результат хороший!</span>"
   ]
  },
  {
   "cell_type": "markdown",
   "metadata": {},
   "source": [
    "## Вывод\n",
    "На выборке по историческим данным банка была обучена и протестирована модель для предсказания оттока клиентов.\n",
    "Модель при тестировании превысила пороговое значение F1 меры.\n"
   ]
  },
  {
   "cell_type": "markdown",
   "metadata": {},
   "source": [
    "## Итоговый комментарий наставника\n",
    "<span style=\"color:blue\">Очень хорошая работа, молодец!:) Никаких ошибок мной не обнаружено. Однако я оставил рекомендации на будущее по ходу проекта, обрати на них своё внимание, пожалуйста. Проект зачтён. Поздравляю и желаю тебе успехов!</span>"
   ]
  },
  {
   "cell_type": "markdown",
   "metadata": {},
   "source": [
    "# Чек-лист готовности проекта"
   ]
  },
  {
   "cell_type": "markdown",
   "metadata": {},
   "source": [
    "Поставьте 'x' в выполненных пунктах. Далее нажмите Shift+Enter."
   ]
  },
  {
   "cell_type": "markdown",
   "metadata": {},
   "source": [
    "- [x]  Jupyter Notebook открыт\n",
    "- [х]  Весь код выполняется без ошибок\n",
    "- [х]  Ячейки с кодом расположены в порядке исполнения\n",
    "- [х]  Выполнен шаг 1: данные подготовлены\n",
    "- [х]  Выполнен шаг 2: задача исследована\n",
    "    - [х]  Исследован баланс классов\n",
    "    - [х]  Изучены модели без учёта дисбаланса\n",
    "    - [х]  Написаны выводы по результатам исследования\n",
    "- [х]  Выполнен шаг 3: учтён дисбаланс\n",
    "    - [х]  Применено несколько способов борьбы с дисбалансом\n",
    "    - [х]  Написаны выводы по результатам исследования\n",
    "- [х]  Выполнен шаг 4: проведено тестирование\n",
    "- [х]  Удалось достичь *F1*-меры не менее 0.59\n",
    "- [х]  Исследована метрика *AUC-ROC*"
   ]
  }
 ],
 "metadata": {
  "kernelspec": {
   "display_name": "Python 3",
   "language": "python",
   "name": "python3"
  },
  "language_info": {
   "codemirror_mode": {
    "name": "ipython",
    "version": 3
   },
   "file_extension": ".py",
   "mimetype": "text/x-python",
   "name": "python",
   "nbconvert_exporter": "python",
   "pygments_lexer": "ipython3",
   "version": "3.7.4"
  }
 },
 "nbformat": 4,
 "nbformat_minor": 2
}

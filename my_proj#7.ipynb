{
 "cells": [
  {
   "cell_type": "markdown",
   "metadata": {},
   "source": [
    "Привет, меня зовут Артем Хуршудов. Сегодня я проверю твой проект.\n",
    "<br> Дальнейшее общение будет происходить на \"ты\" если это не вызывает никаких проблем.\n",
    "<br> Желательно реагировать на каждый мой комментарий ('исправил', 'не понятно как исправить ошибку', ...)\n",
    "<br> Пожалуйста, не удаляй комментарии ревьюера, так как они повышают качество повторного ревью.\n",
    "\n",
    "Комментарии будут в <font color='green'>зеленой</font>, <font color='blue'>синей</font> или <font color='red'>красной</font> рамках:\n",
    "\n",
    "<div class=\"alert alert-block alert-success\">\n",
    "<b>Успех:</b> Если все сделано отлично\n",
    "</div>\n",
    "\n",
    "<div class=\"alert alert-block alert-info\">\n",
    "<b>Совет: </b> Если можно немного улучшить\n",
    "</div>\n",
    "\n",
    "<div class=\"alert alert-block alert-danger\">\n",
    "<b>Ошибка:</b> Если требуются исправления. Работа не может быть принята с красными комментариями.\n",
    "</div>\n",
    "\n",
    "### <font color='orange'>Общее впечатление</font>\n",
    "* Большое спасибо за проделанную работу. Видно, что приложено много усилий.\n",
    "* Выводы и рассуждения получились содержательными, их было интересно читать.\n",
    "* Радует, что тебе удалось разобраться с техникой бутстрапа.\n",
    "* Отлично, что доверительный интервал и риск убытков посчитаны верно.\n",
    "* К сожалению, в работе допущено несколько ошибок. Однако, их исправление не потребует много времени.\n",
    "* Я оставил несколько советов, надеюсь, что они будут учтены.\n",
    "* Жду новую версию проекта."
   ]
  },
  {
   "cell_type": "markdown",
   "metadata": {},
   "source": [
    "<font color='magenta'> __Сделанные изменения__</font>\n",
    "\n",
    "в разделе 3 исправлена величина прибыли получаемой с продажи одного барреля.\n",
    "\n",
    "в результате пересчета изменились: \n",
    "- значение размера минимальной добычи (раздел 3)\n",
    "- значения средней прибыли для регионов\n",
    "- величины доверительных интервалов \n",
    "- значения рисков убытка\n",
    "\n",
    "В соответствии с этим были внесены изменеия в выводы раздела 4 и общий вывод.\n",
    "\n",
    "Спасибо за замечания! Особенно про скэйлинг.\n"
   ]
  },
  {
   "cell_type": "markdown",
   "metadata": {},
   "source": [
    "### <font color='orange'>Общее впечатление (ревью 2)</font>\n",
    "* После проделанных исправлений все значения посчитаны верно.\n",
    "* Я специально не стал указывать какое именно значение нужно исправить. Молодец, что сам разобрался.\n",
    "* Отлично, что ты запомнил про scaling, мало кто об этом задумывается.\n",
    "* Обрати внимание и на другой совет(про названия константных переменных) — это соглашение между программистами. Если ты будешь этого придерживаться, то твой код станет понятнее.\n",
    "* Проект зачтен. Удачи в дальнейшем обучении!"
   ]
  },
  {
   "cell_type": "markdown",
   "metadata": {},
   "source": [
    "# Описание проекта"
   ]
  },
  {
   "cell_type": "markdown",
   "metadata": {},
   "source": [
    "Допустим, вы работаете в добывающей компании «ГлавРосГосНефть». Нужно решить, где бурить новую скважину.\n",
    "\n",
    "Вам предоставлены пробы нефти в трёх регионах: в каждом 10 000 месторождений, где измерили качество нефти и объём её запасов. Постройте модель машинного обучения, которая поможет определить регион, где добыча принесёт наибольшую прибыль. Проанализируйте возможную прибыль и риски техникой *Bootstrap.*\n",
    "\n",
    "Шаги для выбора локации:\n",
    "\n",
    "- В избранном регионе ищут месторождения, для каждого определяют значения признаков;\n",
    "- Строят модель и оценивают объём запасов;\n",
    "- Выбирают месторождения с самым высокими оценками значений. Количество месторождений зависит от бюджета компании и стоимости разработки одной скважины;\n",
    "- Прибыль равна суммарной прибыли отобранных месторождений."
   ]
  },
  {
   "cell_type": "markdown",
   "metadata": {},
   "source": [
    "__Описание данных:__\n",
    "* id — уникальный идентификатор скважины;\n",
    "* \t\tf0, f1, f2 — три значимых признака точек;\n",
    "* \t\tproduct — объём запасов в скважине (тыс. баррелей).\n"
   ]
  },
  {
   "cell_type": "markdown",
   "metadata": {},
   "source": [
    "__Дополнительные условия:__\n",
    "* \t\tДля обучения модели подходит только линейная регрессия (остальные — недостаточно предсказуемые).\n",
    "* \t\tПри разведке региона исследуют 500 точек, из которых выбирают 200 лучших для расчёта прибыли.\n",
    "* \t\tБюджет на разработку скважин в регионе — 10 млрд рублей.\n",
    "* \t\tОдин баррель сырья приносит 450 рублей дохода. Доход с каждой единицы продукта составляет 450 тыс. рублей, поскольку объём указан в тысячах баррелей.\n",
    "* \t\tПосле оценки рисков нужно оставить лишь те регионы, в которых вероятность убытков меньше 2.5%. Среди них выбирают регион с наибольшей средней прибылью."
   ]
  },
  {
   "cell_type": "markdown",
   "metadata": {},
   "source": [
    "## План работ\n",
    "\n",
    "1. Загрузка и знакомство с данными.\n",
    "2. Определение необходимых шагов по предобработке.\n",
    "3. Обучение и проверка регрессионной модели для каждого региона:  \n",
    "    3.1.Рассчет среднего запаса сырья с помощью модели;   \n",
    "4. Рассчет прибыли и рисков для каждого региона\n",
    "\n",
    "    4.1. Подготовка констант для расчётов;  \n",
    "    4.2. Определение минимальный средний объём сырья для безубыточной разработки;  \n",
    "    4.3. Определение функции для расчёта прибыли по набору отобранных месторождений и предсказаний модели.    \n",
    "    4.4. Применение Bootstrap  для нахождения распределение прибыли;  \n",
    "    4.5.Определение средней прибыли, 95%-й доверительный интервал и риска убытков для каждого региона.  \n",
    "4. Итоговый выбор региона для разработки на основании полученных данных"
   ]
  },
  {
   "cell_type": "markdown",
   "metadata": {},
   "source": [
    "# 1. Загрузка и подготовка данных"
   ]
  },
  {
   "cell_type": "code",
   "execution_count": 1,
   "metadata": {},
   "outputs": [],
   "source": [
    "import pandas as pd\n",
    "import numpy as np\n",
    "from sklearn.dummy import DummyRegressor\n",
    "from sklearn.linear_model import LinearRegression\n",
    "from sklearn.model_selection import  train_test_split\n",
    "from sklearn.metrics import mean_squared_error, make_scorer\n",
    "from sklearn.compose import make_column_transformer\n",
    "from sklearn.preprocessing import StandardScaler\n",
    "from collections import defaultdict\n",
    "from scipy import stats as st"
   ]
  },
  {
   "cell_type": "markdown",
   "metadata": {},
   "source": [
    "<div class=\"alert alert-block alert-success\">\n",
    "<b>Успех:</b> Отлично, что все импорты собраны в первой ячейке ноутбука! Если у того, кто будет запускать твой ноутбук будут отсутствовать некоторые библиотеки, то он это увидит сразу, а не в процессе!\n",
    "</div>"
   ]
  },
  {
   "cell_type": "markdown",
   "metadata": {},
   "source": [
    "загрузим данные:"
   ]
  },
  {
   "cell_type": "code",
   "execution_count": 2,
   "metadata": {},
   "outputs": [],
   "source": [
    "location_1 = pd.read_csv('./datasets/geo_data_0.csv')\n",
    "\n",
    "location_2 = pd.read_csv('./datasets/geo_data_1.csv')\n",
    "\n",
    "location_3 = pd.read_csv('./datasets/geo_data_2.csv')"
   ]
  },
  {
   "cell_type": "markdown",
   "metadata": {},
   "source": [
    "И организуем вывод в цикле необходимой информации(общая информация о датасете,случайные записи, описательная статистика и наличие дубликатов) для всех трех регионов:"
   ]
  },
  {
   "cell_type": "code",
   "execution_count": 3,
   "metadata": {},
   "outputs": [
    {
     "name": "stdout",
     "output_type": "stream",
     "text": [
      "<class 'pandas.core.frame.DataFrame'>\n",
      "RangeIndex: 100000 entries, 0 to 99999\n",
      "Data columns (total 5 columns):\n",
      "id         100000 non-null object\n",
      "f0         100000 non-null float64\n",
      "f1         100000 non-null float64\n",
      "f2         100000 non-null float64\n",
      "product    100000 non-null float64\n",
      "dtypes: float64(4), object(1)\n",
      "memory usage: 3.8+ MB\n",
      "None\n",
      "          id        f0        f1        f2     product\n",
      "75934  rFXxq  1.788049  0.014618  8.950148  183.714836\n",
      "                  f0             f1             f2        product\n",
      "count  100000.000000  100000.000000  100000.000000  100000.000000\n",
      "mean        0.500419       0.250143       2.502647      92.500000\n",
      "std         0.871832       0.504433       3.248248      44.288691\n",
      "min        -1.408605      -0.848218     -12.088328       0.000000\n",
      "25%        -0.072580      -0.200881       0.287748      56.497507\n",
      "50%         0.502360       0.250252       2.515969      91.849972\n",
      "75%         1.073581       0.700646       4.715088     128.564089\n",
      "max         2.362331       1.343769      16.003790     185.364347 \n",
      "\n",
      "0 \n",
      "\n",
      "<class 'pandas.core.frame.DataFrame'>\n",
      "RangeIndex: 100000 entries, 0 to 99999\n",
      "Data columns (total 5 columns):\n",
      "id         100000 non-null object\n",
      "f0         100000 non-null float64\n",
      "f1         100000 non-null float64\n",
      "f2         100000 non-null float64\n",
      "product    100000 non-null float64\n",
      "dtypes: float64(4), object(1)\n",
      "memory usage: 3.8+ MB\n",
      "None\n",
      "          id        f0        f1        f2    product\n",
      "31166  6i2RS  9.230119 -1.975484  1.999527  53.906522\n",
      "                  f0             f1             f2        product\n",
      "count  100000.000000  100000.000000  100000.000000  100000.000000\n",
      "mean        1.141296      -4.796579       2.494541      68.825000\n",
      "std         8.965932       5.119872       1.703572      45.944423\n",
      "min       -31.609576     -26.358598      -0.018144       0.000000\n",
      "25%        -6.298551      -8.267985       1.000021      26.953261\n",
      "50%         1.153055      -4.813172       2.011479      57.085625\n",
      "75%         8.621015      -1.332816       3.999904     107.813044\n",
      "max        29.421755      18.734063       5.019721     137.945408 \n",
      "\n",
      "0 \n",
      "\n",
      "<class 'pandas.core.frame.DataFrame'>\n",
      "RangeIndex: 100000 entries, 0 to 99999\n",
      "Data columns (total 5 columns):\n",
      "id         100000 non-null object\n",
      "f0         100000 non-null float64\n",
      "f1         100000 non-null float64\n",
      "f2         100000 non-null float64\n",
      "product    100000 non-null float64\n",
      "dtypes: float64(4), object(1)\n",
      "memory usage: 3.8+ MB\n",
      "None\n",
      "          id        f0        f1        f2     product\n",
      "13811  VXoZX -1.039538 -2.306768  0.904088  157.524892\n",
      "                  f0             f1             f2        product\n",
      "count  100000.000000  100000.000000  100000.000000  100000.000000\n",
      "mean        0.002023      -0.002081       2.495128      95.000000\n",
      "std         1.732045       1.730417       3.473445      44.749921\n",
      "min        -8.760004      -7.084020     -11.970335       0.000000\n",
      "25%        -1.162288      -1.174820       0.130359      59.450441\n",
      "50%         0.009424      -0.009482       2.484236      94.925613\n",
      "75%         1.158535       1.163678       4.858794     130.595027\n",
      "max         7.238262       7.844801      16.739402     190.029838 \n",
      "\n",
      "0 \n",
      "\n"
     ]
    }
   ],
   "source": [
    "regions=(location_1,location_2,location_3)\n",
    "\n",
    "for region in regions:\n",
    "    print(region.info())\n",
    "    print(region.sample())\n",
    "    print(region.describe(),'\\n')\n",
    "    print(region.duplicated().sum(),'\\n')"
   ]
  },
  {
   "cell_type": "markdown",
   "metadata": {},
   "source": [
    "<div class=\"alert alert-block alert-success\">\n",
    "<b>Успех:</b> Загрузка данных и первичный анализ сделаны хорошо. Молодец, что использовал циклы.\n",
    "</div>"
   ]
  },
  {
   "cell_type": "markdown",
   "metadata": {},
   "source": [
    "Также вычислим корреляционную матрицу для переменных по трем регионам:"
   ]
  },
  {
   "cell_type": "code",
   "execution_count": 4,
   "metadata": {},
   "outputs": [
    {
     "name": "stdout",
     "output_type": "stream",
     "text": [
      "           f0    f1    f2  product\n",
      "f0       1.00 -0.44 -0.00     0.14\n",
      "f1      -0.44  1.00  0.00    -0.19\n",
      "f2      -0.00  0.00  1.00     0.48\n",
      "product  0.14 -0.19  0.48     1.00\n",
      "           f0    f1   f2  product\n",
      "f0       1.00  0.18 -0.0    -0.03\n",
      "f1       0.18  1.00 -0.0    -0.01\n",
      "f2      -0.00 -0.00  1.0     1.00\n",
      "product -0.03 -0.01  1.0     1.00\n",
      "          f0   f1    f2  product\n",
      "f0       1.0  0.0 -0.00    -0.00\n",
      "f1       0.0  1.0  0.00    -0.00\n",
      "f2      -0.0  0.0  1.00     0.45\n",
      "product -0.0 -0.0  0.45     1.00\n"
     ]
    }
   ],
   "source": [
    "for region in regions:\n",
    "    print(region.corr().round(2))"
   ]
  },
  {
   "cell_type": "markdown",
   "metadata": {},
   "source": [
    "__подготовка данных для обучения модели__\n",
    "\n",
    "определим в переменных имена нужных нам колонок и метод стандартизации."
   ]
  },
  {
   "cell_type": "code",
   "execution_count": 5,
   "metadata": {},
   "outputs": [],
   "source": [
    "target_name=(['product'])\n",
    "features_names=(['f0','f1','f2'])\n",
    "\n",
    "scaler=StandardScaler()"
   ]
  },
  {
   "cell_type": "markdown",
   "metadata": {},
   "source": [
    "и используем функцию column transformer для создания предобработчика:"
   ]
  },
  {
   "cell_type": "code",
   "execution_count": 6,
   "metadata": {},
   "outputs": [],
   "source": [
    "features_prep = make_column_transformer(\n",
    "                    (scaler,features_names),\n",
    "                    remainder='drop')"
   ]
  },
  {
   "cell_type": "markdown",
   "metadata": {},
   "source": [
    "<div class=\"alert alert-block alert-info\">\n",
    "<b>Совет: </b> Рекомендую обучать scaler только на тренировочной части данных. Обучение на всем датасете - соего рода переобучение.\n",
    "</div>"
   ]
  },
  {
   "cell_type": "markdown",
   "metadata": {},
   "source": [
    "### Выводы\n",
    "\n",
    "Все три датасета однотипны:\n",
    "- содержат по 10 000 строк\n",
    "- отсутствуют пропуски и дубликаты\n",
    "- типы данных определены правильно\n",
    "- признак id для нас незначим, так как выводов от нас ждут в разрезе региона, а не отдельных скважин\n",
    "- признаки нуждаются в стандартизации\n",
    "- целевой признак содержится в колонке product\n",
    "- зависимые признаки f0,f1,f2\n",
    "- анализ взаимной корреляции указывает на наличие взаимосвязи признака f2 с целевым для всех трех регионов.\n",
    "Для второго региона можно ожидать наилучших результатов предсказания линейной регрессионой модели.\n",
    "- создан на базе функции scikit предобработчик датасета для подготовки даннных\n",
    "- признаки f0,f1 не значимы и могут оказать негативное влияние на качество модели\n",
    "\n",
    "Подготовку данных объединим с обучением и проверкой модели в виде функции в следующем разделе"
   ]
  },
  {
   "cell_type": "markdown",
   "metadata": {},
   "source": [
    "# 2. Обучение и проверка модели"
   ]
  },
  {
   "cell_type": "markdown",
   "metadata": {},
   "source": [
    "__Определение базовой регресионной модели__\n",
    "\n",
    "Создадим фиктивную регрессионную модель для использования в качестве ориентира для сравнения с нашей линейной моделью. Для нашего случая модель фиктивной регрессии будет всегда предсказывать среднее значение целевого признака (strategy='mean')"
   ]
  },
  {
   "cell_type": "code",
   "execution_count": 7,
   "metadata": {},
   "outputs": [],
   "source": [
    "Dummy = DummyRegressor(strategy='mean')"
   ]
  },
  {
   "cell_type": "markdown",
   "metadata": {},
   "source": [
    "__Обучение, проверка линейной и фиктивной регрессионных моделей__"
   ]
  },
  {
   "cell_type": "markdown",
   "metadata": {},
   "source": [
    "определим регрессионную модель:"
   ]
  },
  {
   "cell_type": "code",
   "execution_count": 8,
   "metadata": {},
   "outputs": [],
   "source": [
    "LR=LinearRegression()"
   ]
  },
  {
   "cell_type": "markdown",
   "metadata": {},
   "source": [
    "Для обучения и проверки моделей создадим функцию, которая принимает исходный датасет, производит подготовку данных, обучает модели считает и выводит на печать средний предсказанный запас нефти, RMSE и возвращает предсказанные и истинные значения в виде объектов Series, которые понадобятся для дальнейших расчетов."
   ]
  },
  {
   "cell_type": "code",
   "execution_count": 9,
   "metadata": {},
   "outputs": [],
   "source": [
    "def models_estimation (df):\n",
    "    target=df[target_name]\n",
    "    features=features_prep.fit_transform(df)\n",
    "    x_train, x_val, y_train, y_val = train_test_split(\n",
    "                                        features, target, test_size=0.25, random_state=12345)\n",
    "    LR.fit(x_train,y_train)\n",
    "    predicted_val = LR.predict(x_val)\n",
    "    mean_resourse = predicted_val.mean()\n",
    "    rmse = (mean_squared_error(y_val, predicted_val)) ** 0.5\n",
    "    \n",
    "    Dummy.fit(x_train,y_train)\n",
    "    dummy_predicted = Dummy.predict(x_val)\n",
    "    dummy_rmse = (mean_squared_error(y_val, dummy_predicted)) ** 0.5\n",
    "    predicted=predicted_val.flatten()\n",
    "    \n",
    "    predicted_val=pd.Series(predicted,index=y_val.index)\n",
    "    target_val=y_val.values\n",
    "    target_val=target_val.flatten()\n",
    "    target_val=pd.Series(target_val,index=predicted_val.index)\n",
    "    \n",
    "    print('Cредний запас нефти:',mean_resourse.round(2),'RMSE:',rmse.round(2))\n",
    "    print('RMSE фиктивной модели',dummy_rmse.round(2),'\\n')\n",
    "    \n",
    "    return predicted_val,target_val"
   ]
  },
  {
   "cell_type": "markdown",
   "metadata": {},
   "source": [
    "проведем расчет для трех регионов"
   ]
  },
  {
   "cell_type": "code",
   "execution_count": 10,
   "metadata": {},
   "outputs": [
    {
     "name": "stdout",
     "output_type": "stream",
     "text": [
      "Cредний запас нефти: 92.59 RMSE: 37.58\n",
      "RMSE фиктивной модели 44.29 \n",
      "\n"
     ]
    }
   ],
   "source": [
    "prediction_1,y_val_1=models_estimation(location_1)"
   ]
  },
  {
   "cell_type": "code",
   "execution_count": 11,
   "metadata": {},
   "outputs": [
    {
     "name": "stdout",
     "output_type": "stream",
     "text": [
      "Cредний запас нефти: 68.73 RMSE: 0.89\n",
      "RMSE фиктивной модели 46.02 \n",
      "\n"
     ]
    }
   ],
   "source": [
    "prediction_2,y_val_2=models_estimation(location_2)"
   ]
  },
  {
   "cell_type": "code",
   "execution_count": 12,
   "metadata": {},
   "outputs": [
    {
     "name": "stdout",
     "output_type": "stream",
     "text": [
      "Cредний запас нефти: 94.97 RMSE: 40.03\n",
      "RMSE фиктивной модели 44.9 \n",
      "\n"
     ]
    }
   ],
   "source": [
    "prediction_3,y_val_3=models_estimation(location_3)"
   ]
  },
  {
   "cell_type": "markdown",
   "metadata": {},
   "source": [
    "### Выводы\n",
    "- создана модель фиктивной регрессии для сравнения и оценки адекватности применения линейной регрессионной модели.\n",
    "- модель линейной регрессии обучена  на данных для каждого региона\n",
    "- для регионов расчитаны средний запас сырья и среднеквадратичная ошибка\n",
    "- Модель линейной регрессии адекватнее всего описывает данные по второму региону, который , правда, имеет наименьшие запасы сырья.\n",
    "- Для первого и третьего региона среднеквадратичная ошибка близка к таковой для модели фиктивной регресии.\n",
    "- Данные по первому и третьему регионы невполне адекватно описываются в рамках линейной регрессионной модели."
   ]
  },
  {
   "cell_type": "markdown",
   "metadata": {},
   "source": [
    "<div class=\"alert alert-block alert-success\">\n",
    "<b>Успех:</b> Этот шаг сделан абсолютно верно. Отлично, что было проведено сравнение с константной моделью.\n",
    "</div>"
   ]
  },
  {
   "cell_type": "markdown",
   "metadata": {},
   "source": [
    "# 3. Подготовка к расчёту прибыли"
   ]
  },
  {
   "cell_type": "markdown",
   "metadata": {},
   "source": [
    "Определим константы для расчета из предоставленных нам исходных данных:"
   ]
  },
  {
   "cell_type": "code",
   "execution_count": 13,
   "metadata": {},
   "outputs": [],
   "source": [
    "hole_points = 500\n",
    "budget_total = 10e9\n",
    "cost_per_hole = 50e6\n",
    "profit_per_barrel = 450"
   ]
  },
  {
   "cell_type": "markdown",
   "metadata": {},
   "source": [
    "<div class=\"alert alert-block alert-info\">\n",
    "<b>Совет: </b> Желательно использовать только большие буквы в названиях константных переменных.\n",
    "</div>"
   ]
  },
  {
   "cell_type": "markdown",
   "metadata": {},
   "source": [
    "<div class=\"alert alert-block alert-danger\">\n",
    "<b>Ошибка:</b> Тут ты немного напутал со значениями величин, проверь все еще раз.\n",
    "</div>"
   ]
  },
  {
   "cell_type": "markdown",
   "metadata": {},
   "source": [
    "вычислим сколько надо добыть нефти из скважины для покрытия издержек разработки:"
   ]
  },
  {
   "cell_type": "code",
   "execution_count": 14,
   "metadata": {},
   "outputs": [
    {
     "name": "stdout",
     "output_type": "stream",
     "text": [
      "минимальная добыча,тыс.бар:111.11\n"
     ]
    }
   ],
   "source": [
    "min_bar = cost_per_hole/ (profit_per_barrel * 1000)\n",
    "print(\"минимальная добыча,тыс.бар:{:.2f}\".format(min_bar))"
   ]
  },
  {
   "cell_type": "markdown",
   "metadata": {},
   "source": [
    "<div class=\"alert alert-block alert-danger\">\n",
    "<b>Ошибка:</b> Неверное значение.\n",
    "</div>"
   ]
  },
  {
   "cell_type": "markdown",
   "metadata": {},
   "source": [
    "рассчитаем количество скважин на разработку которых хватит отпущенных средств"
   ]
  },
  {
   "cell_type": "code",
   "execution_count": 15,
   "metadata": {},
   "outputs": [
    {
     "data": {
      "text/plain": [
       "200"
      ]
     },
     "execution_count": 15,
     "metadata": {},
     "output_type": "execute_result"
    }
   ],
   "source": [
    "max_holes = int(budget_total / cost_per_hole)\n",
    "max_holes"
   ]
  },
  {
   "cell_type": "markdown",
   "metadata": {},
   "source": [
    "определим функцию для расчета прибыли:"
   ]
  },
  {
   "cell_type": "code",
   "execution_count": 16,
   "metadata": {},
   "outputs": [],
   "source": [
    "def revenue(target, probabilities, count):\n",
    "    probabilities = pd.Series(probabilities, index=target.index)\n",
    "    probs_sorted = probabilities.sort_values(ascending=False)\n",
    "    selected = target.loc[probs_sorted.index][:count]\n",
    "    return profit_per_barrel * 1000 * selected.sum() - budget_total"
   ]
  },
  {
   "cell_type": "markdown",
   "metadata": {},
   "source": [
    "### Выводы\n",
    "\n",
    "- Для всех ключевых значений созданы константы Python\n",
    "- Посчитано минимальное среднее количество продукта в месторождениях региона, достаточное для разработки\n",
    "- Размер средних запасов в по всем регионам превышает размер минимальной добычи. Разработка месторождений рентабельна \n",
    "- Написана функция расчёта прибыли"
   ]
  },
  {
   "cell_type": "markdown",
   "metadata": {},
   "source": [
    "<div class=\"alert alert-block alert-danger\">\n",
    "<b>Ошибка:</b> Пожалуйста, проверь все значения и исправь ошибки в некоторых из них.\n",
    "</div>"
   ]
  },
  {
   "cell_type": "markdown",
   "metadata": {},
   "source": [
    "# 4. Расчёт прибыли и рисков "
   ]
  },
  {
   "cell_type": "markdown",
   "metadata": {},
   "source": [
    "Создадим функцию, реализующую процедуру bootstrap, которая будет принимать на вход валидационную выборку целевого признака, прогноз, рассчитаный моделью и размер выборки для бустрепа(число исследованных скважин). Результат расчета: средняя прибыль, 95% интервал и риск убытков (доли отрицательных значений прибыли среди всех значений прибыли)."
   ]
  },
  {
   "cell_type": "code",
   "execution_count": 17,
   "metadata": {},
   "outputs": [],
   "source": [
    "def bootstrap(valid, predicted, count):\n",
    "    state = np.random.RandomState(12345)\n",
    "    values = []\n",
    "    for i in range(1000):\n",
    "        target_subsample = valid.sample(count, replace=True, random_state=state)\n",
    "        predicted_subsample = predicted[target_subsample.index]\n",
    "        values.append(revenue(target_subsample, predicted_subsample, max_holes))\n",
    "    values = pd.Series(values)\n",
    "    risk_chance = (values < 0).mean()\n",
    "    lower = values.quantile(0.025)\n",
    "    upper = values.quantile(0.975)\n",
    "    mean_profit = int(values.mean())\n",
    "    print(\"Средняя прибыль: {:,.2f} руб.\".format(mean_profit))\n",
    "    print(\"Нижняя граница доверительного интервала: {:,.2f} руб.\".format(lower))\n",
    "    print(\"Верхняя граница доверительного интервала: {:,.2f} руб.\".format(upper))\n",
    "    print(\"Риск убытков: {:,.2f}.\".format(risk_chance))"
   ]
  },
  {
   "cell_type": "markdown",
   "metadata": {},
   "source": [
    "произведем расчет для наших данных по трем регионам:"
   ]
  },
  {
   "cell_type": "code",
   "execution_count": 18,
   "metadata": {},
   "outputs": [
    {
     "name": "stdout",
     "output_type": "stream",
     "text": [
      "Средняя прибыль: 425,938,526.00 руб.\n",
      "Нижняя граница доверительного интервала: -102,090,094.84 руб.\n",
      "Верхняя граница доверительного интервала: 947,976,353.36 руб.\n",
      "Риск убытков: 0.06.\n"
     ]
    }
   ],
   "source": [
    "bootstrap(y_val_1,prediction_1,hole_points)"
   ]
  },
  {
   "cell_type": "code",
   "execution_count": 19,
   "metadata": {},
   "outputs": [
    {
     "name": "stdout",
     "output_type": "stream",
     "text": [
      "Средняя прибыль: 515,222,773.00 руб.\n",
      "Нижняя граница доверительного интервала: 68,873,225.37 руб.\n",
      "Верхняя граница доверительного интервала: 931,547,591.26 руб.\n",
      "Риск убытков: 0.01.\n"
     ]
    }
   ],
   "source": [
    "bootstrap(y_val_2,prediction_2,hole_points)"
   ]
  },
  {
   "cell_type": "code",
   "execution_count": 20,
   "metadata": {},
   "outputs": [
    {
     "name": "stdout",
     "output_type": "stream",
     "text": [
      "Средняя прибыль: 435,008,362.00 руб.\n",
      "Нижняя граница доверительного интервала: -128,880,547.33 руб.\n",
      "Верхняя граница доверительного интервала: 969,706,954.18 руб.\n",
      "Риск убытков: 0.06.\n"
     ]
    }
   ],
   "source": [
    "bootstrap(y_val_3,prediction_3,hole_points)"
   ]
  },
  {
   "cell_type": "markdown",
   "metadata": {},
   "source": [
    "<div class=\"alert alert-block alert-danger\">\n",
    "<b>Ошибка:</b> Так как часть значений неверные, то и ответы соответственно получились с ошибкой. Однако, шаг 4 вообще не требует исправлений, здесь все верно. Все ошибки допущены в шаге 3.\n",
    "    <br> В качестве проверки: Точно существуют регионы, у которых риск убытков больше 2.5%.\n",
    "</div>"
   ]
  },
  {
   "cell_type": "markdown",
   "metadata": {},
   "source": [
    "### Выводы\n",
    "\n",
    "- Для для первого и третьего регионов риски убытка превышают пороговое значение в 2,5%.\n",
    "- Наиболее перспетивным регионом является  регион 2 :\n",
    "- самый высокий размер средней прибыли и самая узкая область для 95% доверительного интервала и риск убытка менее 2,5%.\n"
   ]
  },
  {
   "cell_type": "markdown",
   "metadata": {},
   "source": [
    "## Общий вывод\n",
    "Проведен анализ данных по трем нефтяным месторождения для выбора наиболее перспективного.\n",
    "Было сделано:\n",
    "- первичный анализ данных;\n",
    "- предобработка\n",
    "- на данных по регионам обучена модель линейной регрессии.\n",
    "- с помощью регрессионной модели были рассчитаны средние запасы месторождений в каждом регионе.\n",
    "- адекватность регрессионной модели проверялась сравнением с фиктивной базовой моделью.\n",
    "- определен минимальный обьем месторождений для безубыточной разработки\n",
    "- для выбора перспективного региона для разработки по данным построенных моделей проанализируйте возможную прибыль и риски техникой Bootstrap.\n",
    "- согласно произведенным расчетам наиболее перспективен регион №2:\n",
    "-данные по региону описываются нашей регрессионной моделью с наименьшим значением среднеквалратичной ошибки.\n",
    "- риск убытка меньше граничного условия(2,5%) нашей задачи\n",
    "- наибольшая возможная прибыль.\n",
    "\n",
    "\n"
   ]
  },
  {
   "cell_type": "markdown",
   "metadata": {},
   "source": [
    "# Чек-лист готовности проекта"
   ]
  },
  {
   "cell_type": "markdown",
   "metadata": {},
   "source": [
    "Поставьте 'x' в выполненных пунктах. Далее нажмите Shift+Enter."
   ]
  },
  {
   "cell_type": "markdown",
   "metadata": {},
   "source": [
    "- [x]  Jupyter Notebook открыт\n",
    "- [x]  Весь код выполняется без ошибок\n",
    "- [x]  Ячейки с кодом расположены в порядке исполнения\n",
    "- [x]  Выполнен шаг 1: данные подготовлены\n",
    "- [x]  Выполнен шаг 2: модели обучены и проверены\n",
    "    - [x]  Данные корректно разбиты на обучающую и валидационную выборки\n",
    "    - [x]  Модели обучены, предсказания сделаны\n",
    "    - [x]  Предсказания и правильные ответы на валидационной выборке сохранены\n",
    "    - [x]  На экране напечатаны результаты\n",
    "    - [x]  Сделаны выводы\n",
    "- [х]  Выполнен шаг 3: проведена подготовка к расчёту прибыли\n",
    "    - [x]  Для всех ключевых значений созданы константы Python\n",
    "    - [x]  Посчитано минимальное среднее количество продукта в месторождениях региона, достаточное для разработки\n",
    "    - [x]  По предыдущему пункту сделаны выводы\n",
    "    - [x]  Написана функция расчёта прибыли\n",
    "- [х]  Выполнен шаг 4: посчитаны риски и прибыль\n",
    "    - [x]  Проведена процедура *Bootstrap*\n",
    "    - [x]  Все параметры бутстрепа соответствуют условию\n",
    "    - [x]  Найдены все нужные величины\n",
    "    - [x]  Предложен регион для разработки месторождения\n",
    "    - [x]  Выбор региона обоснован"
   ]
  }
 ],
 "metadata": {
  "kernelspec": {
   "display_name": "Python 3",
   "language": "python",
   "name": "python3"
  },
  "language_info": {
   "codemirror_mode": {
    "name": "ipython",
    "version": 3
   },
   "file_extension": ".py",
   "mimetype": "text/x-python",
   "name": "python",
   "nbconvert_exporter": "python",
   "pygments_lexer": "ipython3",
   "version": "3.7.6"
  }
 },
 "nbformat": 4,
 "nbformat_minor": 2
}
